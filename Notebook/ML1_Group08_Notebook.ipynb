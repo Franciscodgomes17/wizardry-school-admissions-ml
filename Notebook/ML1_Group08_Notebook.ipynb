{
 "cells": [
  {
   "cell_type": "markdown",
   "metadata": {
    "id": "YNQkd9qIQdZ8"
   },
   "source": [
    "# **Machine Learning I | Final Project**\n",
    "\n",
    "        \n",
    "## Wizardry School Enrollment\n",
    "\n",
    "*Group 08*\n",
    "\n",
    "*Group members* : Carolina Almeida (20221855), Duarte Carvalho (20221900), Francisco Gomes (20221810), Maria Henriques (20221952) and Marta Monteiro (20221954).</p>"
   ]
  },
  {
   "cell_type": "markdown",
   "metadata": {
    "id": "bi6WGNSZQdaF"
   },
   "source": [
    "-----------------------------------------"
   ]
  },
  {
   "cell_type": "markdown",
   "metadata": {
    "id": "PTv9hxF8QdaG"
   },
   "source": [
    "### Table of Contents\n",
    "\n",
    "* [1. Data Preparation](#1)\n",
    "    * [1.1 Importing the Datasets and Libraries](#1.1)\n",
    "    * [1.2 Preliminary Data Analysis and Arrangements](#1.2)\n",
    "\n",
    "<br>\n",
    "\n",
    "* [2. Data Exploration and Treatment](#2)\n",
    "    * [2.1 Summary Data Analysis](#2.1)\n",
    "    * [2.2 Feature Distributions in Relation to the Target and Outlier Detection](#2.2)\n",
    "        * [2.2.1 Numerical Data](#2.2.1)\n",
    "        * [2.2.2 Categorical Data](#2.2.2)\n",
    "    * [2.3 Feature Engineering](#2.3)\n",
    "    * [2.4 Data Partitioning](#2.4)\n",
    "    * [2.5 Encoding](#2.5)\n",
    "    * [2.6 Scaling](#2.6)\n",
    "\n",
    "<br>\n",
    "\n",
    "* [3. Feature Selection](#3)\n",
    "    * [3.1 Filter Methods](#3.1)\n",
    "        * [3.1.1 Univariate Variables](#3.1.1)\n",
    "        * [3.1.2 Spearman's Correlation Analysis](#3.1.2)\n",
    "        * [3.1.3 Chi-Square Test](#3.1.3)\n",
    "    * [3.2 Wrapper Methods](#3.2)\n",
    "        * [3.2.1 Recursive Feature Elimination (RFE)](#3.2.1)\n",
    "        * [3.2.2 Sequential Forward Selection (SFS)](#3.2.2)\n",
    "    * [3.3 Embedded Methods](#3.3)\n",
    "        * [3.3.1 Lasso Regression](#3.3.1)\n",
    "        * [3.3.2 Decision Tree](#3.3.2)\n",
    "    * [3.4 Final Insights](#3.4)\n",
    "\n",
    "<br>\n",
    "\n",
    "* [4. Model Experimentation and Criteria for Evaluation](#4)\n",
    "    * [4.1 Model Choice](#4.1)\n",
    "    * [4.2 Fitting the Model](#4.2)\n",
    "    * [4.3 Making Predictions](#4.3)\n",
    "    * [4.4. Making predictions](#4.4)\n",
    "\n",
    "<br>\n",
    "\n",
    "* [5. Extracting Predictions](#5)"
   ]
  },
  {
   "cell_type": "markdown",
   "metadata": {
    "id": "T2Ocu8chQdaI"
   },
   "source": [
    "-----------------------------------------"
   ]
  },
  {
   "cell_type": "markdown",
   "metadata": {
    "id": "Z6OPmygdQdaJ"
   },
   "source": [
    "<a id=\"1\"></a>\n",
    "\n",
    "# **1. Data Preparation <font>**"
   ]
  },
  {
   "cell_type": "markdown",
   "metadata": {
    "id": "G9VWMHISQdaK"
   },
   "source": [
    "<a id=\"1.1\"></a>\n",
    "    \n",
    "## **1.1. Importing the datasets and libraries <font>**"
   ]
  },
  {
   "cell_type": "markdown",
   "metadata": {
    "id": "QdG9DFilqmso"
   },
   "source": [
    "This section, as mentioned in the title, is intended for importing the data and necessary libraries."
   ]
  },
  {
   "cell_type": "code",
   "execution_count": null,
   "metadata": {
    "id": "LIe8oLRIQdaL"
   },
   "outputs": [],
   "source": [
    "# Data manipulation and analysis\n",
    "import pandas as pd\n",
    "import numpy as np\n",
    "from sklearn.model_selection import train_test_split\n",
    "\n",
    "# Data visualization\n",
    "import matplotlib.pyplot as plt\n",
    "import seaborn as sns\n",
    "\n",
    "# Encoding\n",
    "from sklearn.preprocessing import OneHotEncoder\n",
    "\n",
    "# Imputation\n",
    "from sklearn.metrics import mean_squared_error\n",
    "import random\n",
    "from sklearn.impute import KNNImputer\n",
    "\n",
    "# Feature selection and scaling\n",
    "import scipy.stats as stats\n",
    "from sklearn.feature_selection import RFE, SequentialFeatureSelector\n",
    "from sklearn.linear_model import LassoCV, LogisticRegression\n",
    "from sklearn.tree import DecisionTreeClassifier\n",
    "from sklearn.preprocessing import RobustScaler\n",
    "\n",
    "#Performance Metrics\n",
    "from sklearn.metrics import confusion_matrix, accuracy_score, f1_score, precision_score,  recall_score, classification_report,  balanced_accuracy_score\n",
    "\n",
    "#Model Selection\n",
    "from sklearn.model_selection import GridSearchCV\n",
    "\n",
    "# Models\n",
    "from sklearn.neural_network import MLPClassifier as MLP\n",
    "from sklearn.ensemble import StackingClassifier\n",
    "from sklearn.tree import DecisionTreeClassifier\n",
    "from sklearn.ensemble import BaggingClassifier, RandomForestClassifier\n",
    "from sklearn.ensemble import AdaBoostClassifier\n",
    "from sklearn.neural_network import MLPClassifier, MLPRegressor\n",
    "from sklearn.svm import SVC\n",
    "from sklearn.ensemble import GradientBoostingClassifier\n",
    "from sklearn.ensemble import ExtraTreesClassifier\n",
    "from xgboost import XGBClassifier\n",
    "from sklearn.naive_bayes import GaussianNB\n",
    "\n",
    "# Model evaluation\n",
    "from sklearn.model_selection import KFold, RepeatedKFold\n",
    "\n",
    "import warnings\n",
    "warnings.filterwarnings('ignore')"
   ]
  },
  {
   "cell_type": "code",
   "execution_count": null,
   "metadata": {
    "id": "Ow0NxURpQdaO"
   },
   "outputs": [],
   "source": [
    "# Training set\n",
    "train_data = pd.read_csv('Project_train_dataset.csv')\n",
    "\n",
    "# Testing set\n",
    "test_data = pd.read_csv('Project_test_dataset.csv')"
   ]
  },
  {
   "cell_type": "markdown",
   "metadata": {
    "id": "SvDODVK8QdaP"
   },
   "source": [
    "<a id=\"1.2\"></a>\n",
    "    \n",
    "## 1.2. Preliminary Data Analysis and Arrangements<font>"
   ]
  },
  {
   "cell_type": "markdown",
   "metadata": {
    "id": "DmakrRqnqmsu"
   },
   "source": [
    "In this part, we extracted some initial information regarding data types, missing values and memory usage."
   ]
  },
  {
   "cell_type": "code",
   "execution_count": null,
   "metadata": {
    "id": "7shrlTgEQdaP"
   },
   "outputs": [],
   "source": [
    "# Training set\n",
    "train_data_copy = train_data.copy()\n",
    "\n",
    "# Testing set\n",
    "test_data_copy = test_data.copy()"
   ]
  },
  {
   "cell_type": "code",
   "execution_count": null,
   "metadata": {
    "colab": {
     "base_uri": "https://localhost:8080/",
     "height": 586
    },
    "id": "Tob9dVqTqmsv",
    "outputId": "0cdaa994-4d7e-499a-fb50-2cdb551437d1"
   },
   "outputs": [
    {
     "data": {
      "text/html": [
       "<div>\n",
       "<style scoped>\n",
       "    .dataframe tbody tr th:only-of-type {\n",
       "        vertical-align: middle;\n",
       "    }\n",
       "\n",
       "    .dataframe tbody tr th {\n",
       "        vertical-align: top;\n",
       "    }\n",
       "\n",
       "    .dataframe thead th {\n",
       "        text-align: right;\n",
       "    }\n",
       "</style>\n",
       "<table border=\"1\" class=\"dataframe\">\n",
       "  <thead>\n",
       "    <tr style=\"text-align: right;\">\n",
       "      <th></th>\n",
       "      <th>Student ID</th>\n",
       "      <th>Program</th>\n",
       "      <th>Student Gender</th>\n",
       "      <th>Experience Level</th>\n",
       "      <th>Student Siblings</th>\n",
       "      <th>Student Family</th>\n",
       "      <th>Financial Background</th>\n",
       "      <th>School Dormitory</th>\n",
       "      <th>School of Origin</th>\n",
       "      <th>Student Social Influence</th>\n",
       "      <th>Favourite Study Element</th>\n",
       "      <th>Admitted in School</th>\n",
       "    </tr>\n",
       "  </thead>\n",
       "  <tbody>\n",
       "    <tr>\n",
       "      <th>0</th>\n",
       "      <td>1</td>\n",
       "      <td>Sorcery School</td>\n",
       "      <td>male</td>\n",
       "      <td>22.0</td>\n",
       "      <td>1</td>\n",
       "      <td>0</td>\n",
       "      <td>7.2500</td>\n",
       "      <td>NaN</td>\n",
       "      <td>Mystic Academy</td>\n",
       "      <td>18</td>\n",
       "      <td>Fire</td>\n",
       "      <td>0</td>\n",
       "    </tr>\n",
       "    <tr>\n",
       "      <th>1</th>\n",
       "      <td>2</td>\n",
       "      <td>Magi Academy</td>\n",
       "      <td>female</td>\n",
       "      <td>38.0</td>\n",
       "      <td>1</td>\n",
       "      <td>0</td>\n",
       "      <td>71.2833</td>\n",
       "      <td>Cottage Chamber</td>\n",
       "      <td>Eldertree Enclave</td>\n",
       "      <td>7</td>\n",
       "      <td>Fire</td>\n",
       "      <td>1</td>\n",
       "    </tr>\n",
       "    <tr>\n",
       "      <th>2</th>\n",
       "      <td>3</td>\n",
       "      <td>Sorcery School</td>\n",
       "      <td>female</td>\n",
       "      <td>26.0</td>\n",
       "      <td>0</td>\n",
       "      <td>0</td>\n",
       "      <td>7.9250</td>\n",
       "      <td>NaN</td>\n",
       "      <td>Mystic Academy</td>\n",
       "      <td>12</td>\n",
       "      <td>Air</td>\n",
       "      <td>1</td>\n",
       "    </tr>\n",
       "    <tr>\n",
       "      <th>3</th>\n",
       "      <td>5</td>\n",
       "      <td>Sorcery School</td>\n",
       "      <td>male</td>\n",
       "      <td>35.0</td>\n",
       "      <td>0</td>\n",
       "      <td>0</td>\n",
       "      <td>8.0500</td>\n",
       "      <td>NaN</td>\n",
       "      <td>Mystic Academy</td>\n",
       "      <td>12</td>\n",
       "      <td>Air</td>\n",
       "      <td>0</td>\n",
       "    </tr>\n",
       "    <tr>\n",
       "      <th>4</th>\n",
       "      <td>6</td>\n",
       "      <td>Sorcery School</td>\n",
       "      <td>male</td>\n",
       "      <td>NaN</td>\n",
       "      <td>0</td>\n",
       "      <td>0</td>\n",
       "      <td>8.4583</td>\n",
       "      <td>NaN</td>\n",
       "      <td>Arcan Institute</td>\n",
       "      <td>11</td>\n",
       "      <td>Earth</td>\n",
       "      <td>0</td>\n",
       "    </tr>\n",
       "  </tbody>\n",
       "</table>\n",
       "</div>"
      ],
      "text/plain": [
       "   Student ID         Program Student Gender  Experience Level  \\\n",
       "0           1  Sorcery School           male              22.0   \n",
       "1           2    Magi Academy         female              38.0   \n",
       "2           3  Sorcery School         female              26.0   \n",
       "3           5  Sorcery School           male              35.0   \n",
       "4           6  Sorcery School           male               NaN   \n",
       "\n",
       "   Student Siblings  Student Family  Financial Background School Dormitory  \\\n",
       "0                 1               0                7.2500              NaN   \n",
       "1                 1               0               71.2833  Cottage Chamber   \n",
       "2                 0               0                7.9250              NaN   \n",
       "3                 0               0                8.0500              NaN   \n",
       "4                 0               0                8.4583              NaN   \n",
       "\n",
       "    School of Origin  Student Social Influence Favourite Study Element  \\\n",
       "0     Mystic Academy                        18                    Fire   \n",
       "1  Eldertree Enclave                         7                    Fire   \n",
       "2     Mystic Academy                        12                     Air   \n",
       "3     Mystic Academy                        12                     Air   \n",
       "4   Arcan Institute                         11                   Earth   \n",
       "\n",
       "   Admitted in School  \n",
       "0                   0  \n",
       "1                   1  \n",
       "2                   1  \n",
       "3                   0  \n",
       "4                   0  "
      ]
     },
     "metadata": {},
     "output_type": "display_data"
    },
    {
     "data": {
      "text/html": [
       "<div>\n",
       "<style scoped>\n",
       "    .dataframe tbody tr th:only-of-type {\n",
       "        vertical-align: middle;\n",
       "    }\n",
       "\n",
       "    .dataframe tbody tr th {\n",
       "        vertical-align: top;\n",
       "    }\n",
       "\n",
       "    .dataframe thead th {\n",
       "        text-align: right;\n",
       "    }\n",
       "</style>\n",
       "<table border=\"1\" class=\"dataframe\">\n",
       "  <thead>\n",
       "    <tr style=\"text-align: right;\">\n",
       "      <th></th>\n",
       "      <th>Student ID</th>\n",
       "      <th>Program</th>\n",
       "      <th>Student Gender</th>\n",
       "      <th>Experience Level</th>\n",
       "      <th>Student Siblings</th>\n",
       "      <th>Student Family</th>\n",
       "      <th>Financial Background</th>\n",
       "      <th>School Dormitory</th>\n",
       "      <th>School of Origin</th>\n",
       "      <th>Student Social Influence</th>\n",
       "      <th>Favourite Study Element</th>\n",
       "    </tr>\n",
       "  </thead>\n",
       "  <tbody>\n",
       "    <tr>\n",
       "      <th>0</th>\n",
       "      <td>836</td>\n",
       "      <td>Magi Academy</td>\n",
       "      <td>female</td>\n",
       "      <td>39.0</td>\n",
       "      <td>1</td>\n",
       "      <td>1</td>\n",
       "      <td>83.1583</td>\n",
       "      <td>Mystical Chamber</td>\n",
       "      <td>Eldertree Enclave</td>\n",
       "      <td>16</td>\n",
       "      <td>Fire</td>\n",
       "    </tr>\n",
       "    <tr>\n",
       "      <th>1</th>\n",
       "      <td>323</td>\n",
       "      <td>Witchcraft Institute</td>\n",
       "      <td>female</td>\n",
       "      <td>30.0</td>\n",
       "      <td>0</td>\n",
       "      <td>0</td>\n",
       "      <td>12.3500</td>\n",
       "      <td>NaN</td>\n",
       "      <td>Arcan Institute</td>\n",
       "      <td>1</td>\n",
       "      <td>Earth</td>\n",
       "    </tr>\n",
       "    <tr>\n",
       "      <th>2</th>\n",
       "      <td>117</td>\n",
       "      <td>Sorcery School</td>\n",
       "      <td>male</td>\n",
       "      <td>70.5</td>\n",
       "      <td>0</td>\n",
       "      <td>0</td>\n",
       "      <td>7.7500</td>\n",
       "      <td>NaN</td>\n",
       "      <td>Arcan Institute</td>\n",
       "      <td>9</td>\n",
       "      <td>Earth</td>\n",
       "    </tr>\n",
       "    <tr>\n",
       "      <th>3</th>\n",
       "      <td>444</td>\n",
       "      <td>Witchcraft Institute</td>\n",
       "      <td>female</td>\n",
       "      <td>28.0</td>\n",
       "      <td>0</td>\n",
       "      <td>0</td>\n",
       "      <td>13.0000</td>\n",
       "      <td>NaN</td>\n",
       "      <td>Mystic Academy</td>\n",
       "      <td>9</td>\n",
       "      <td>Air</td>\n",
       "    </tr>\n",
       "    <tr>\n",
       "      <th>4</th>\n",
       "      <td>619</td>\n",
       "      <td>Witchcraft Institute</td>\n",
       "      <td>female</td>\n",
       "      <td>4.0</td>\n",
       "      <td>2</td>\n",
       "      <td>1</td>\n",
       "      <td>39.0000</td>\n",
       "      <td>Python Quarters</td>\n",
       "      <td>Mystic Academy</td>\n",
       "      <td>8</td>\n",
       "      <td>Water</td>\n",
       "    </tr>\n",
       "  </tbody>\n",
       "</table>\n",
       "</div>"
      ],
      "text/plain": [
       "   Student ID               Program Student Gender  Experience Level  \\\n",
       "0         836          Magi Academy         female              39.0   \n",
       "1         323  Witchcraft Institute         female              30.0   \n",
       "2         117        Sorcery School           male              70.5   \n",
       "3         444  Witchcraft Institute         female              28.0   \n",
       "4         619  Witchcraft Institute         female               4.0   \n",
       "\n",
       "   Student Siblings  Student Family  Financial Background  School Dormitory  \\\n",
       "0                 1               1               83.1583  Mystical Chamber   \n",
       "1                 0               0               12.3500               NaN   \n",
       "2                 0               0                7.7500               NaN   \n",
       "3                 0               0               13.0000               NaN   \n",
       "4                 2               1               39.0000   Python Quarters   \n",
       "\n",
       "    School of Origin  Student Social Influence Favourite Study Element  \n",
       "0  Eldertree Enclave                        16                    Fire  \n",
       "1   Arcan Institute                          1                   Earth  \n",
       "2   Arcan Institute                          9                   Earth  \n",
       "3     Mystic Academy                         9                     Air  \n",
       "4     Mystic Academy                         8                   Water  "
      ]
     },
     "metadata": {},
     "output_type": "display_data"
    }
   ],
   "source": [
    "# Check the training set\n",
    "display(train_data_copy.head())\n",
    "\n",
    "# Check the testing set\n",
    "display(test_data_copy.head())"
   ]
  },
  {
   "cell_type": "code",
   "execution_count": null,
   "metadata": {
    "colab": {
     "base_uri": "https://localhost:8080/",
     "height": 694
    },
    "id": "GxtsHIq_QdaR",
    "outputId": "8ef3a2fc-c06a-42a6-b026-18b02c12396b"
   },
   "outputs": [
    {
     "name": "stdout",
     "output_type": "stream",
     "text": [
      "<class 'pandas.core.frame.DataFrame'>\n",
      "RangeIndex: 713 entries, 0 to 712\n",
      "Data columns (total 12 columns):\n",
      " #   Column                    Non-Null Count  Dtype  \n",
      "---  ------                    --------------  -----  \n",
      " 0   Student ID                713 non-null    int64  \n",
      " 1   Program                   713 non-null    object \n",
      " 2   Student Gender            713 non-null    object \n",
      " 3   Experience Level          567 non-null    float64\n",
      " 4   Student Siblings          713 non-null    int64  \n",
      " 5   Student Family            713 non-null    int64  \n",
      " 6   Financial Background      713 non-null    float64\n",
      " 7   School Dormitory          153 non-null    object \n",
      " 8   School of Origin          713 non-null    object \n",
      " 9   Student Social Influence  713 non-null    int64  \n",
      " 10  Favourite Study Element   713 non-null    object \n",
      " 11  Admitted in School        713 non-null    int64  \n",
      "dtypes: float64(2), int64(5), object(5)\n",
      "memory usage: 252.9 KB\n"
     ]
    },
    {
     "data": {
      "text/plain": [
       "None"
      ]
     },
     "metadata": {},
     "output_type": "display_data"
    },
    {
     "name": "stdout",
     "output_type": "stream",
     "text": [
      "<class 'pandas.core.frame.DataFrame'>\n",
      "RangeIndex: 176 entries, 0 to 175\n",
      "Data columns (total 11 columns):\n",
      " #   Column                    Non-Null Count  Dtype  \n",
      "---  ------                    --------------  -----  \n",
      " 0   Student ID                176 non-null    int64  \n",
      " 1   Program                   176 non-null    object \n",
      " 2   Student Gender            176 non-null    object \n",
      " 3   Experience Level          145 non-null    float64\n",
      " 4   Student Siblings          176 non-null    int64  \n",
      " 5   Student Family            176 non-null    int64  \n",
      " 6   Financial Background      176 non-null    float64\n",
      " 7   School Dormitory          49 non-null     object \n",
      " 8   School of Origin          176 non-null    object \n",
      " 9   Student Social Influence  176 non-null    int64  \n",
      " 10  Favourite Study Element   176 non-null    object \n",
      "dtypes: float64(2), int64(4), object(5)\n",
      "memory usage: 61.6 KB\n"
     ]
    },
    {
     "data": {
      "text/plain": [
       "None"
      ]
     },
     "metadata": {},
     "output_type": "display_data"
    }
   ],
   "source": [
    "# Check the data types and memory usage -> Training set\n",
    "display(train_data_copy.info(memory_usage='deep'))\n",
    "\n",
    "# Check the data types and memory usage -> Testing set\n",
    "display(test_data_copy.info(memory_usage='deep'))"
   ]
  },
  {
   "cell_type": "markdown",
   "metadata": {
    "id": "FI_BEa2Sqmsx"
   },
   "source": [
    "Converting data types plays a crucial role in optimizing memory efficiency and ensuring compatibility with the chosen machine learning models. By selecting the most appropriate data types, we can reduce memory usage, which is particularly important when dealing with extensive datasets.\n",
    "\n",
    "Additionally, we make sure that the data types align with the expectations of the machine learning algorithms used, promoting a smooth analysis and modeling process. This practice not only improves project performance but also facilitates more effective decision-making based on the results obtained through machine learning."
   ]
  },
  {
   "cell_type": "markdown",
   "metadata": {
    "id": "sEWf0Df7qmsx"
   },
   "source": [
    "That said, and based on the cell above we can conclude that all the variables, except for 'Financial Background', can be assigned different data types:\n",
    "\n",
    "<u>Student ID</u>: int16\n",
    "\n",
    "<u>Program</u>: category\n",
    "\n",
    "<u>Student Gender</u>: category\n",
    "\n",
    "<u>Experience Level</u>: float16\n",
    "\n",
    "<u>Student Siblings</u>: int8\n",
    "\n",
    "<u>Student Family</u>: int8\n",
    "\n",
    "<u>School Dormitory</u>: category\n",
    "\n",
    "<u>School of Origin</u>: category\n",
    "\n",
    "<u>Student Social Influence</u>: int8\n",
    "\n",
    "<u>Favourite Study Element</u>: category\n",
    "\n",
    "<u>Admitted in School</u>: bool"
   ]
  },
  {
   "cell_type": "code",
   "execution_count": null,
   "metadata": {
    "id": "Btqnh2cpQdaS"
   },
   "outputs": [],
   "source": [
    "# Convert the data types -> Training set\n",
    "train_data_copy = train_data_copy.astype({'Student ID': 'int16',\n",
    "                                          'Program': 'category',\n",
    "                                          'Student Gender': 'category',\n",
    "                                          'Experience Level': 'float16',\n",
    "                                          'Student Siblings': 'int8',\n",
    "                                          'Student Family': 'int8',\n",
    "                                          'School Dormitory': 'category',\n",
    "                                          'School of Origin': 'category',\n",
    "                                          'Student Social Influence': 'int8',\n",
    "                                          'Favourite Study Element': 'category',\n",
    "                                          'Admitted in School': 'bool'})\n",
    "\n",
    "# Convert the data types -> Testing set\n",
    "test_data_copy = test_data_copy.astype({'Student ID': 'int16',\n",
    "                                          'Program': 'category',\n",
    "                                          'Student Gender': 'category',\n",
    "                                          'Experience Level': 'float16',\n",
    "                                          'Student Siblings': 'int8',\n",
    "                                          'Student Family': 'int8',\n",
    "                                          'School Dormitory': 'category',\n",
    "                                          'School of Origin': 'category',\n",
    "                                          'Student Social Influence': 'int8',\n",
    "                                          'Favourite Study Element': 'category',})"
   ]
  },
  {
   "cell_type": "code",
   "execution_count": null,
   "metadata": {
    "colab": {
     "base_uri": "https://localhost:8080/",
     "height": 694
    },
    "id": "RktQxKp2QdaT",
    "outputId": "7a041ae5-a808-402f-e6f8-b5a31f78bff6"
   },
   "outputs": [
    {
     "name": "stdout",
     "output_type": "stream",
     "text": [
      "<class 'pandas.core.frame.DataFrame'>\n",
      "RangeIndex: 713 entries, 0 to 712\n",
      "Data columns (total 12 columns):\n",
      " #   Column                    Non-Null Count  Dtype   \n",
      "---  ------                    --------------  -----   \n",
      " 0   Student ID                713 non-null    int16   \n",
      " 1   Program                   713 non-null    category\n",
      " 2   Student Gender            713 non-null    category\n",
      " 3   Experience Level          567 non-null    float16 \n",
      " 4   Student Siblings          713 non-null    int8    \n",
      " 5   Student Family            713 non-null    int8    \n",
      " 6   Financial Background      713 non-null    float64 \n",
      " 7   School Dormitory          153 non-null    category\n",
      " 8   School of Origin          713 non-null    category\n",
      " 9   Student Social Influence  713 non-null    int8    \n",
      " 10  Favourite Study Element   713 non-null    category\n",
      " 11  Admitted in School        713 non-null    bool    \n",
      "dtypes: bool(1), category(5), float16(1), float64(1), int16(1), int8(3)\n",
      "memory usage: 16.6 KB\n"
     ]
    },
    {
     "data": {
      "text/plain": [
       "None"
      ]
     },
     "metadata": {},
     "output_type": "display_data"
    },
    {
     "name": "stdout",
     "output_type": "stream",
     "text": [
      "<class 'pandas.core.frame.DataFrame'>\n",
      "RangeIndex: 176 entries, 0 to 175\n",
      "Data columns (total 11 columns):\n",
      " #   Column                    Non-Null Count  Dtype   \n",
      "---  ------                    --------------  -----   \n",
      " 0   Student ID                176 non-null    int16   \n",
      " 1   Program                   176 non-null    category\n",
      " 2   Student Gender            176 non-null    category\n",
      " 3   Experience Level          145 non-null    float16 \n",
      " 4   Student Siblings          176 non-null    int8    \n",
      " 5   Student Family            176 non-null    int8    \n",
      " 6   Financial Background      176 non-null    float64 \n",
      " 7   School Dormitory          49 non-null     category\n",
      " 8   School of Origin          176 non-null    category\n",
      " 9   Student Social Influence  176 non-null    int8    \n",
      " 10  Favourite Study Element   176 non-null    category\n",
      "dtypes: category(5), float16(1), float64(1), int16(1), int8(3)\n",
      "memory usage: 5.3 KB\n"
     ]
    },
    {
     "data": {
      "text/plain": [
       "None"
      ]
     },
     "metadata": {},
     "output_type": "display_data"
    }
   ],
   "source": [
    "# Check the decrease in memory usage -> Training set\n",
    "display(train_data_copy.info(memory_usage='deep'))\n",
    "\n",
    "# Check the decrease in memory usage -> Testing set\n",
    "display(test_data_copy.info(memory_usage='deep'))"
   ]
  },
  {
   "cell_type": "markdown",
   "metadata": {
    "id": "xZCIT8gOQdaT"
   },
   "source": [
    "Based on the information available for the training and test sets, it can be inferred that the \"Experience Level\" and \"School Dormitory\" features have missing values."
   ]
  },
  {
   "cell_type": "code",
   "execution_count": null,
   "metadata": {
    "id": "5AX54LYQQdaT"
   },
   "outputs": [],
   "source": [
    "# More than 50% of the School Dormitory values are missing, hence why we will drop this column -> Training set\n",
    "train_data_copy = train_data_copy.drop('School Dormitory', axis = 1)\n",
    "\n",
    "# More than 50% of the School Dormitory values are missing, hence why we will drop this column -> Testing set\n",
    "test_data_copy = test_data_copy.drop('School Dormitory', axis = 1)"
   ]
  },
  {
   "cell_type": "markdown",
   "metadata": {
    "id": "eJLC1Macwghi"
   },
   "source": [
    "Given that more than 50% of the values in the “Experience Level” column are not null, we chose not to eliminate this column. Instead, we used the KNN Imputer method to fill in the missing values. The function we created to determine the ideal number of neighbors for imputation is presented below."
   ]
  },
  {
   "cell_type": "code",
   "execution_count": null,
   "metadata": {
    "colab": {
     "base_uri": "https://localhost:8080/"
    },
    "id": "lTcwiDlGqms0",
    "outputId": "f7614ecf-8ecf-4bc2-b23c-04038e9fbc91"
   },
   "outputs": [
    {
     "name": "stdout",
     "output_type": "stream",
     "text": [
      "The best number of k's is: 1\n"
     ]
    }
   ],
   "source": [
    "# Create two copies of the data\n",
    "complete_data = train_data_copy[train_data_copy['Experience Level'].notna()]\n",
    "complete_data_copy = complete_data.copy()\n",
    "\n",
    "# Generate Missing Values\n",
    "n_missing = int(complete_data.shape[0] * 0.1)\n",
    "missing_indices = random.sample(list(complete_data.index), n_missing)\n",
    "complete_data_copy.loc[missing_indices, 'Experience Level'] = np.nan\n",
    "\n",
    "# Store original values for later comparison\n",
    "original_values = complete_data.loc[missing_indices, 'Experience Level']\n",
    "\n",
    "# Imputation with KNN for Various k\n",
    "mse_scores = []\n",
    "for k in range(1, 11):\n",
    "    imputer = KNNImputer(n_neighbors=k)\n",
    "    imputed_data = imputer.fit_transform(complete_data_copy[['Experience Level']])\n",
    "    imputed_values = imputed_data[np.isin(complete_data_copy.index, missing_indices)]\n",
    "\n",
    "    # Calculate Mean Squared Error (MSE) between original and imputed values\n",
    "    mse = mean_squared_error(original_values, imputed_values)\n",
    "    mse_scores.append(mse)\n",
    "\n",
    "# Find the Best k\n",
    "best_k = range(1, 11)[np.argmin(mse_scores)]\n",
    "\n",
    "# Display the result\n",
    "print(f\"The best number of k's is: {best_k}\")"
   ]
  },
  {
   "cell_type": "markdown",
   "metadata": {
    "id": "GuDNqTgkxqEl"
   },
   "source": [
    "This function performs KNN imputation for various k values (from 1 to 10) and calculates the Mean Squared Error (MSE) between the original and imputed values. The k value that minimizes the MSE is considered the best. This method allows us to effectively handle missing values in the “Experience Level” column, preserving most of the original information."
   ]
  },
  {
   "cell_type": "markdown",
   "metadata": {
    "id": "4tOUhw1ryElz"
   },
   "source": [
    "Knowing that the best number of neighbours is 1, we proceed with the imputation of values for both the training and testing datasets."
   ]
  },
  {
   "cell_type": "code",
   "execution_count": null,
   "metadata": {
    "id": "NBkMpCiuQdaU"
   },
   "outputs": [],
   "source": [
    "imputer_train = KNNImputer(n_neighbors = 1)\n",
    "\n",
    "# To fill the missing values in Experience Level we will use the KNN Imputer -> Training set\n",
    "train_data_copy['Experience Level'] = imputer_train.fit_transform(train_data_copy[['Experience Level']])\n",
    "\n",
    "# To fill the missing values in Experience Level we will use the KNN Imputer -> Testing set\n",
    "test_data_copy['Experience Level'] = imputer_train.transform(test_data_copy[['Experience Level']])"
   ]
  },
  {
   "cell_type": "code",
   "execution_count": null,
   "metadata": {
    "colab": {
     "base_uri": "https://localhost:8080/",
     "height": 659
    },
    "id": "0AxWAmbmQdaU",
    "outputId": "6856d749-628f-43c4-e967-3a82c34daaa5"
   },
   "outputs": [
    {
     "name": "stdout",
     "output_type": "stream",
     "text": [
      "<class 'pandas.core.frame.DataFrame'>\n",
      "RangeIndex: 713 entries, 0 to 712\n",
      "Data columns (total 11 columns):\n",
      " #   Column                    Non-Null Count  Dtype   \n",
      "---  ------                    --------------  -----   \n",
      " 0   Student ID                713 non-null    int16   \n",
      " 1   Program                   713 non-null    category\n",
      " 2   Student Gender            713 non-null    category\n",
      " 3   Experience Level          713 non-null    float16 \n",
      " 4   Student Siblings          713 non-null    int8    \n",
      " 5   Student Family            713 non-null    int8    \n",
      " 6   Financial Background      713 non-null    float64 \n",
      " 7   School of Origin          713 non-null    category\n",
      " 8   Student Social Influence  713 non-null    int8    \n",
      " 9   Favourite Study Element   713 non-null    category\n",
      " 10  Admitted in School        713 non-null    bool    \n",
      "dtypes: bool(1), category(4), float16(1), float64(1), int16(1), int8(3)\n",
      "memory usage: 15.3 KB\n"
     ]
    },
    {
     "data": {
      "text/plain": [
       "None"
      ]
     },
     "metadata": {},
     "output_type": "display_data"
    },
    {
     "name": "stdout",
     "output_type": "stream",
     "text": [
      "<class 'pandas.core.frame.DataFrame'>\n",
      "RangeIndex: 176 entries, 0 to 175\n",
      "Data columns (total 10 columns):\n",
      " #   Column                    Non-Null Count  Dtype   \n",
      "---  ------                    --------------  -----   \n",
      " 0   Student ID                176 non-null    int16   \n",
      " 1   Program                   176 non-null    category\n",
      " 2   Student Gender            176 non-null    category\n",
      " 3   Experience Level          176 non-null    float16 \n",
      " 4   Student Siblings          176 non-null    int8    \n",
      " 5   Student Family            176 non-null    int8    \n",
      " 6   Financial Background      176 non-null    float64 \n",
      " 7   School of Origin          176 non-null    category\n",
      " 8   Student Social Influence  176 non-null    int8    \n",
      " 9   Favourite Study Element   176 non-null    category\n",
      "dtypes: category(4), float16(1), float64(1), int16(1), int8(3)\n",
      "memory usage: 4.7 KB\n"
     ]
    },
    {
     "data": {
      "text/plain": [
       "None"
      ]
     },
     "metadata": {},
     "output_type": "display_data"
    }
   ],
   "source": [
    "# Check the decrease in memory usage -> Training set\n",
    "display(train_data_copy.info(memory_usage='deep'))\n",
    "\n",
    "# Check the decrease in memory usage -> Testing set\n",
    "display(test_data_copy.info(memory_usage='deep'))"
   ]
  },
  {
   "cell_type": "markdown",
   "metadata": {
    "id": "K_Ldnd74qms2"
   },
   "source": [
    "After applying the modifications above, we can observe that the decrease in memory usage is clear."
   ]
  },
  {
   "cell_type": "markdown",
   "metadata": {
    "id": "XpXD2w6hQdaV"
   },
   "source": [
    "<a id=\"2\"></a>\n",
    "    \n",
    "# **<font color='#00000'> 2. Data Exploration and Treatment <font>**"
   ]
  },
  {
   "cell_type": "markdown",
   "metadata": {
    "id": "ZmWN5o8nqms3"
   },
   "source": [
    "This section aims to extract useful data insights."
   ]
  },
  {
   "cell_type": "markdown",
   "metadata": {
    "id": "xCnxCjMAQdaV"
   },
   "source": [
    "<a id=\"2.1\"></a>\n",
    "    \n",
    "## <font color='#00000'> 2.1 Summary Analysis <font>"
   ]
  },
  {
   "cell_type": "code",
   "execution_count": null,
   "metadata": {
    "colab": {
     "base_uri": "https://localhost:8080/",
     "height": 458
    },
    "id": "9KqrFY5sQdaV",
    "outputId": "98f03302-3591-4be0-d66d-438a73bf10a3"
   },
   "outputs": [
    {
     "data": {
      "text/html": [
       "<div>\n",
       "<style scoped>\n",
       "    .dataframe tbody tr th:only-of-type {\n",
       "        vertical-align: middle;\n",
       "    }\n",
       "\n",
       "    .dataframe tbody tr th {\n",
       "        vertical-align: top;\n",
       "    }\n",
       "\n",
       "    .dataframe thead th {\n",
       "        text-align: right;\n",
       "    }\n",
       "</style>\n",
       "<table border=\"1\" class=\"dataframe\">\n",
       "  <thead>\n",
       "    <tr style=\"text-align: right;\">\n",
       "      <th></th>\n",
       "      <th>count</th>\n",
       "      <th>mean</th>\n",
       "      <th>std</th>\n",
       "      <th>min</th>\n",
       "      <th>25%</th>\n",
       "      <th>50%</th>\n",
       "      <th>75%</th>\n",
       "      <th>max</th>\n",
       "    </tr>\n",
       "  </thead>\n",
       "  <tbody>\n",
       "    <tr>\n",
       "      <th>Student ID</th>\n",
       "      <td>713.0</td>\n",
       "      <td>443.402525</td>\n",
       "      <td>257.180421</td>\n",
       "      <td>1.000000</td>\n",
       "      <td>219.000</td>\n",
       "      <td>446.000000</td>\n",
       "      <td>666.0</td>\n",
       "      <td>889.0000</td>\n",
       "    </tr>\n",
       "    <tr>\n",
       "      <th>Experience Level</th>\n",
       "      <td>713.0</td>\n",
       "      <td>29.890625</td>\n",
       "      <td>13.015625</td>\n",
       "      <td>0.419922</td>\n",
       "      <td>22.000</td>\n",
       "      <td>29.890625</td>\n",
       "      <td>35.0</td>\n",
       "      <td>80.0000</td>\n",
       "    </tr>\n",
       "    <tr>\n",
       "      <th>Student Siblings</th>\n",
       "      <td>713.0</td>\n",
       "      <td>0.521739</td>\n",
       "      <td>1.057287</td>\n",
       "      <td>0.000000</td>\n",
       "      <td>0.000</td>\n",
       "      <td>0.000000</td>\n",
       "      <td>1.0</td>\n",
       "      <td>8.0000</td>\n",
       "    </tr>\n",
       "    <tr>\n",
       "      <th>Student Family</th>\n",
       "      <td>713.0</td>\n",
       "      <td>0.354839</td>\n",
       "      <td>0.770985</td>\n",
       "      <td>0.000000</td>\n",
       "      <td>0.000</td>\n",
       "      <td>0.000000</td>\n",
       "      <td>0.0</td>\n",
       "      <td>6.0000</td>\n",
       "    </tr>\n",
       "    <tr>\n",
       "      <th>Financial Background</th>\n",
       "      <td>713.0</td>\n",
       "      <td>31.327238</td>\n",
       "      <td>50.903034</td>\n",
       "      <td>0.000000</td>\n",
       "      <td>7.925</td>\n",
       "      <td>14.400000</td>\n",
       "      <td>30.0</td>\n",
       "      <td>512.3292</td>\n",
       "    </tr>\n",
       "    <tr>\n",
       "      <th>Student Social Influence</th>\n",
       "      <td>713.0</td>\n",
       "      <td>12.719495</td>\n",
       "      <td>6.949648</td>\n",
       "      <td>1.000000</td>\n",
       "      <td>7.000</td>\n",
       "      <td>13.000000</td>\n",
       "      <td>19.0</td>\n",
       "      <td>24.0000</td>\n",
       "    </tr>\n",
       "  </tbody>\n",
       "</table>\n",
       "</div>"
      ],
      "text/plain": [
       "                          count        mean         std       min      25%  \\\n",
       "Student ID                713.0  443.402525  257.180421  1.000000  219.000   \n",
       "Experience Level          713.0   29.890625   13.015625  0.419922   22.000   \n",
       "Student Siblings          713.0    0.521739    1.057287  0.000000    0.000   \n",
       "Student Family            713.0    0.354839    0.770985  0.000000    0.000   \n",
       "Financial Background      713.0   31.327238   50.903034  0.000000    7.925   \n",
       "Student Social Influence  713.0   12.719495    6.949648  1.000000    7.000   \n",
       "\n",
       "                                 50%    75%       max  \n",
       "Student ID                446.000000  666.0  889.0000  \n",
       "Experience Level           29.890625   35.0   80.0000  \n",
       "Student Siblings            0.000000    1.0    8.0000  \n",
       "Student Family              0.000000    0.0    6.0000  \n",
       "Financial Background       14.400000   30.0  512.3292  \n",
       "Student Social Influence   13.000000   19.0   24.0000  "
      ]
     },
     "metadata": {},
     "output_type": "display_data"
    },
    {
     "data": {
      "text/html": [
       "<div>\n",
       "<style scoped>\n",
       "    .dataframe tbody tr th:only-of-type {\n",
       "        vertical-align: middle;\n",
       "    }\n",
       "\n",
       "    .dataframe tbody tr th {\n",
       "        vertical-align: top;\n",
       "    }\n",
       "\n",
       "    .dataframe thead th {\n",
       "        text-align: right;\n",
       "    }\n",
       "</style>\n",
       "<table border=\"1\" class=\"dataframe\">\n",
       "  <thead>\n",
       "    <tr style=\"text-align: right;\">\n",
       "      <th></th>\n",
       "      <th>count</th>\n",
       "      <th>mean</th>\n",
       "      <th>std</th>\n",
       "      <th>min</th>\n",
       "      <th>25%</th>\n",
       "      <th>50%</th>\n",
       "      <th>75%</th>\n",
       "      <th>max</th>\n",
       "    </tr>\n",
       "  </thead>\n",
       "  <tbody>\n",
       "    <tr>\n",
       "      <th>Student ID</th>\n",
       "      <td>176.0</td>\n",
       "      <td>456.522727</td>\n",
       "      <td>256.720414</td>\n",
       "      <td>4.0</td>\n",
       "      <td>269.7500</td>\n",
       "      <td>446.000000</td>\n",
       "      <td>679.2500</td>\n",
       "      <td>891.000</td>\n",
       "    </tr>\n",
       "    <tr>\n",
       "      <th>Experience Level</th>\n",
       "      <td>176.0</td>\n",
       "      <td>28.890625</td>\n",
       "      <td>12.773438</td>\n",
       "      <td>1.0</td>\n",
       "      <td>21.0000</td>\n",
       "      <td>29.890625</td>\n",
       "      <td>34.0000</td>\n",
       "      <td>70.500</td>\n",
       "    </tr>\n",
       "    <tr>\n",
       "      <th>Student Siblings</th>\n",
       "      <td>176.0</td>\n",
       "      <td>0.534091</td>\n",
       "      <td>1.277935</td>\n",
       "      <td>0.0</td>\n",
       "      <td>0.0000</td>\n",
       "      <td>0.000000</td>\n",
       "      <td>1.0000</td>\n",
       "      <td>8.000</td>\n",
       "    </tr>\n",
       "    <tr>\n",
       "      <th>Student Family</th>\n",
       "      <td>176.0</td>\n",
       "      <td>0.494318</td>\n",
       "      <td>0.931954</td>\n",
       "      <td>0.0</td>\n",
       "      <td>0.0000</td>\n",
       "      <td>0.000000</td>\n",
       "      <td>1.0000</td>\n",
       "      <td>5.000</td>\n",
       "    </tr>\n",
       "    <tr>\n",
       "      <th>Financial Background</th>\n",
       "      <td>176.0</td>\n",
       "      <td>35.213800</td>\n",
       "      <td>44.478617</td>\n",
       "      <td>0.0</td>\n",
       "      <td>7.8958</td>\n",
       "      <td>15.795850</td>\n",
       "      <td>39.6875</td>\n",
       "      <td>262.375</td>\n",
       "    </tr>\n",
       "    <tr>\n",
       "      <th>Student Social Influence</th>\n",
       "      <td>176.0</td>\n",
       "      <td>12.630682</td>\n",
       "      <td>6.483824</td>\n",
       "      <td>1.0</td>\n",
       "      <td>7.0000</td>\n",
       "      <td>13.000000</td>\n",
       "      <td>18.0000</td>\n",
       "      <td>24.000</td>\n",
       "    </tr>\n",
       "  </tbody>\n",
       "</table>\n",
       "</div>"
      ],
      "text/plain": [
       "                          count        mean         std  min       25%  \\\n",
       "Student ID                176.0  456.522727  256.720414  4.0  269.7500   \n",
       "Experience Level          176.0   28.890625   12.773438  1.0   21.0000   \n",
       "Student Siblings          176.0    0.534091    1.277935  0.0    0.0000   \n",
       "Student Family            176.0    0.494318    0.931954  0.0    0.0000   \n",
       "Financial Background      176.0   35.213800   44.478617  0.0    7.8958   \n",
       "Student Social Influence  176.0   12.630682    6.483824  1.0    7.0000   \n",
       "\n",
       "                                 50%       75%      max  \n",
       "Student ID                446.000000  679.2500  891.000  \n",
       "Experience Level           29.890625   34.0000   70.500  \n",
       "Student Siblings            0.000000    1.0000    8.000  \n",
       "Student Family              0.000000    1.0000    5.000  \n",
       "Financial Background       15.795850   39.6875  262.375  \n",
       "Student Social Influence   13.000000   18.0000   24.000  "
      ]
     },
     "metadata": {},
     "output_type": "display_data"
    }
   ],
   "source": [
    "# Check the descriptive statistics of the training and the testing datasets\n",
    "display(train_data_copy.describe().T)\n",
    "display(test_data_copy.describe().T)"
   ]
  },
  {
   "cell_type": "markdown",
   "metadata": {
    "id": "8NV3x6tyqms4"
   },
   "source": [
    "**What are some insights that we can take?**\n",
    "\n",
    "By looking at the standard deviation we can conclude that <u>Student Siblings</u> and <u>Student Family</u> have the lowest standard deviations amongst the variables.\n",
    "\n",
    "Taking a closer look at these two variables, we can conclude that, half of the students (50%) have no siblings or family members attending the school with the latter variable extending this observation to the majority (75%).\n",
    "\n",
    "Also, despite being difficult to confirm at this stage, we note the existence of potencial outliers, due to the maximum values that differ greatly from the others. This can be seen on the following variables: <u>Experience Level</u> whose maximum value is 80, <u>Student Siblings</u> where the maximum is 8, and <u>Financial Background</u> in which it is 512.5."
   ]
  },
  {
   "cell_type": "code",
   "execution_count": null,
   "metadata": {
    "colab": {
     "base_uri": "https://localhost:8080/"
    },
    "id": "UjxWcDMsQdaW",
    "outputId": "f376ab03-c7aa-4280-e13d-826e62a126b3"
   },
   "outputs": [
    {
     "name": "stdout",
     "output_type": "stream",
     "text": [
      "Column: Experience Level\n",
      "There are outliers in this column.\n",
      "\n",
      "\n",
      "Column: Student Siblings\n",
      "There are outliers in this column.\n",
      "\n",
      "\n",
      "Column: Student Family\n",
      "There are outliers in this column.\n",
      "\n",
      "\n",
      "Column: Financial Background\n",
      "There are outliers in this column.\n",
      "\n",
      "\n",
      "Column: Student Social Influence\n",
      "There are no outliers in this column.\n",
      "\n",
      "\n"
     ]
    }
   ],
   "source": [
    "# Functions to find outliers on the left and right sides\n",
    "\n",
    "def outliers_left(df):\n",
    "    q1 = df.quantile(0.25)\n",
    "    q3 = df.quantile(0.75)\n",
    "    IQR = q3 - q1\n",
    "    outliers_left = q1 - 1.5 * IQR\n",
    "    return outliers_left\n",
    "\n",
    "def outliers_right(df):\n",
    "    q1 = df.quantile(0.25)\n",
    "    q3 = df.quantile(0.75)\n",
    "    IQR = q3 - q1\n",
    "    outliers_right = q3 + 1.5 * IQR\n",
    "    return outliers_right\n",
    "\n",
    "# Check for outliers in each column, except for 'Student ID'\n",
    "\n",
    "numerical_features = ['Experience Level', 'Student Siblings', 'Student Family', 'Financial Background', 'Student Social Influence']\n",
    "\n",
    "for column in numerical_features:\n",
    "    outlier_left = outliers_left(train_data_copy[column])\n",
    "    outlier_right = outliers_right(train_data_copy[column])\n",
    "    outliers = train_data_copy[(train_data_copy[column] < outlier_left) | (train_data_copy[column] > outlier_right)]\n",
    "\n",
    "    print(f\"Column: {column}\")\n",
    "\n",
    "    if not outliers.empty:\n",
    "        print(\"There are outliers in this column.\")\n",
    "    else:\n",
    "        print(\"There are no outliers in this column.\")\n",
    "\n",
    "    print(\"\\n\")"
   ]
  },
  {
   "cell_type": "markdown",
   "metadata": {
    "id": "oMUUI8elqms5"
   },
   "source": [
    "We can confirm our assumptions, since there are outliers on the variables, <u>Experience Level</u>, <u>Student Siblings</u> and <u>Financial Background</u>. Also, it wasn't mentioned previously, but the variable <u>Student Family</u> also has outliers."
   ]
  },
  {
   "cell_type": "code",
   "execution_count": null,
   "metadata": {
    "colab": {
     "base_uri": "https://localhost:8080/"
    },
    "id": "TarxFs2iQdaW",
    "outputId": "6841441d-ac86-4b1d-a25b-fae224068ed5"
   },
   "outputs": [
    {
     "name": "stdout",
     "output_type": "stream",
     "text": [
      "False    461\n",
      "True     252\n",
      "Name: Admitted in School, dtype: int64\n",
      "35.34% of students pass\n"
     ]
    }
   ],
   "source": [
    "# Distribution of the target variable\n",
    "print(train_data_copy['Admitted in School'].value_counts())\n",
    "print(str(round(len(train_data_copy[train_data_copy['Admitted in School'] == 1])/ len(train_data_copy) * 100, 2)) + '% of students pass')"
   ]
  },
  {
   "cell_type": "markdown",
   "metadata": {
    "id": "hpMXRZYDQdaX"
   },
   "source": [
    "The uneven distribution of the target variable <u>Admitted in School</u> indicates that we are dealing with an unbalanced dataset, having only 35.34% of students admitted.\n",
    "\n",
    "To navigate these challenges, it's crucial to consider alternative evaluation metrics, such as precision, recall, and F1-score, which provide a more nuanced understanding of the model's performance in the context of unbalanced data.\n",
    "\n",
    "In summary, the imbalance in the <u>Admitted in School</u> classes should be addressed with care to ensure that machine learning models can effectively capture the patterns present in both the admitted and not admitted groups."
   ]
  },
  {
   "cell_type": "markdown",
   "metadata": {
    "id": "py7YHnDZQdaX"
   },
   "source": [
    "<a id=\"2.2\"></a>   \n",
    "\n",
    "## <font color='#00000'> 2.2 Feature Distributions in Relation to the Target and Outliers Detection <font>"
   ]
  },
  {
   "cell_type": "markdown",
   "metadata": {
    "id": "pKTdbLgNQdaY"
   },
   "source": [
    "| Admission Status | Color |\n",
    "|:-----------------:|:-----:|\n",
    "| **Admitted**      | <span style=\"color:green\">Dark Green|\n",
    "| **Not Admitted**  | <span style=\"color:silver\">Silver|"
   ]
  },
  {
   "cell_type": "code",
   "execution_count": null,
   "metadata": {
    "id": "w2l35K1WQdaY"
   },
   "outputs": [],
   "source": [
    "# Define a custom color palette\n",
    "\n",
    "my_palette = ['silver', 'darkgreen']"
   ]
  },
  {
   "cell_type": "markdown",
   "metadata": {
    "id": "a3I-TfBLQdaa"
   },
   "source": [
    "<a id=\"2.2.1\"></a>       \n",
    "\n",
    "### <font color='#00000'>2.2.1 Numerical Data<font>"
   ]
  },
  {
   "cell_type": "markdown",
   "metadata": {
    "id": "v-0gT4FSqms7"
   },
   "source": [
    "**Binning for Visualization**"
   ]
  },
  {
   "cell_type": "markdown",
   "metadata": {
    "id": "P9C8Gbl0qms7"
   },
   "source": [
    "To simplify visualization, some features with wide ranges were binned into intervals.\n",
    "<br>\n",
    "This approach aids in creating clearer representations, particularly in histograms. Additionally, it transforms continuous features into categorical ones, enhancing the performance of machine learning models.\n",
    "<br>\n",
    "The careful selection of bin sizes ensures meaningful insights without sacrificing important information."
   ]
  },
  {
   "cell_type": "code",
   "execution_count": null,
   "metadata": {
    "id": "YzX2QcIgqmtL"
   },
   "outputs": [],
   "source": [
    "# Experience Level\n",
    "train_data_copy['Experience Level Binned'] = pd.cut(train_data_copy['Experience Level'],\n",
    "                                                  bins = [0, 10, 20, 30, 40, 50, 60, 70, 80],\n",
    "                                                  include_lowest = False,\n",
    "                                                  right = False)\n"
   ]
  },
  {
   "cell_type": "code",
   "execution_count": null,
   "metadata": {
    "id": "16Vnp5D0qmtL"
   },
   "outputs": [],
   "source": [
    "# Financial Background\n",
    "train_data_copy['Financial Background Binned'] = pd.cut(train_data_copy['Financial Background'],\n",
    "                                                  bins = [0, 50, 100, 150, 200, 250, 300, 350, 400, 450, 500, 550],\n",
    "                                                  include_lowest = False,\n",
    "                                                  right = False)"
   ]
  },
  {
   "cell_type": "markdown",
   "metadata": {
    "id": "KErQuLgiqmtL"
   },
   "source": [
    "**Visualization**"
   ]
  },
  {
   "cell_type": "code",
   "execution_count": null,
   "metadata": {
    "colab": {
     "base_uri": "https://localhost:8080/",
     "height": 398
    },
    "id": "I7nKiWz7Qdaa",
    "outputId": "0c4f5cca-0e99-4de6-b894-7a35c1c17841"
   },
   "outputs": [
    {
     "data": {
      "image/png": "[encoded data removed]",
      "text/plain": [
       "<Figure size 1440x360 with 1 Axes>"
      ]
     },
     "metadata": {
      "needs_background": "light"
     },
     "output_type": "display_data"
    }
   ],
   "source": [
    "# Students by Experience Level\n",
    "\n",
    "plt.figure(figsize = (20, 5))\n",
    "\n",
    "sns.countplot(data = train_data_copy, x = 'Experience Level Binned', hue = 'Admitted in School', palette = my_palette).set(title = 'Count of Students by Experience Level')\n",
    "\n",
    "plt.legend(['Not admitted', 'Admitted'], bbox_to_anchor = (1.05, 1), loc = 2, borderaxespad = 0.)\n",
    "\n",
    "plt.ylabel('Number of students')\n",
    "\n",
    "plt.show()"
   ]
  },
  {
   "cell_type": "markdown",
   "metadata": {
    "id": "nJuEeRbIQdaa"
   },
   "source": [
    "Upon analysis, it becomes evident that the majority of students, irrespective of admission status, fall within the experience level range of 20 to 30.\n",
    "<br>\n",
    "This observation underscores the significance of delineating experience levels into intervals for a more nuanced exploration of the student population."
   ]
  },
  {
   "cell_type": "code",
   "execution_count": null,
   "metadata": {
    "colab": {
     "base_uri": "https://localhost:8080/",
     "height": 400
    },
    "id": "J5pgbsJEQdaa",
    "outputId": "6cceb571-33b6-4d54-de85-75e0e1fd52f1"
   },
   "outputs": [
    {
     "data": {
      "image/png": "[encoded data removed]",
      "text/plain": [
       "<Figure size 1440x360 with 1 Axes>"
      ]
     },
     "metadata": {
      "needs_background": "light"
     },
     "output_type": "display_data"
    }
   ],
   "source": [
    "# Students by Social Influence\n",
    "\n",
    "plt.figure(figsize = (20, 5))\n",
    "\n",
    "sns.countplot(data = train_data_copy, x = 'Student Social Influence', hue = 'Admitted in School', palette = my_palette).set(title = 'Count of Students by Social Influence')\n",
    "\n",
    "plt.legend(['Not admitted', 'Admitted'], bbox_to_anchor = (1.05, 1), loc = 2, borderaxespad = 0.)\n",
    "\n",
    "plt.ylabel('Number of students')\n",
    "\n",
    "plt.show()"
   ]
  },
  {
   "cell_type": "markdown",
   "metadata": {
    "id": "HtxmfQELQdab"
   },
   "source": [
    "The distribution is relatively normal as it isn't skewed nor outliers appear to exist."
   ]
  },
  {
   "cell_type": "code",
   "execution_count": null,
   "metadata": {
    "colab": {
     "base_uri": "https://localhost:8080/",
     "height": 449
    },
    "id": "f0e_n51mQdar",
    "outputId": "53ac51cc-acd0-4319-a6b6-5f66e504e542"
   },
   "outputs": [
    {
     "data": {
      "image/png": "[encoded data removed]",
      "text/plain": [
       "<Figure size 1440x360 with 2 Axes>"
      ]
     },
     "metadata": {
      "needs_background": "light"
     },
     "output_type": "display_data"
    }
   ],
   "source": [
    "# Students by number of Family Members attending the same school and by number of Siblings\n",
    "\n",
    "fig, axes = plt.subplots(1, 2, figsize = (20, 5), sharey = True)\n",
    "\n",
    "sns.countplot(ax = axes[0], data = train_data_copy, x = 'Student Family', palette = my_palette, hue = 'Admitted in School').set(title = 'Count of Students by the number of Family Members attending the same School')\n",
    "axes[0].set_ylabel('Number of students')\n",
    "\n",
    "sns.countplot(ax = axes[1], data = train_data_copy, x = 'Student Siblings', palette = my_palette, hue = 'Admitted in School').set(title = 'Count of Students by the number of Siblings')\n",
    "axes[1].set_ylabel('Number of students')\n",
    "\n",
    "for ax in axes:\n",
    "    ax.legend(['Not admitted', 'Admitted'], loc = \"upper right\")\n",
    "\n",
    "plt.show()"
   ]
  },
  {
   "cell_type": "markdown",
   "metadata": {
    "id": "dAFSYU2CQdar"
   },
   "source": [
    "As expected we note a positive correlation between the number of siblings and the number of family members attending the same school. Hence, a strong connection is evident between these two graphs, leading to a nearly identical skewness in both.\n",
    "<br>\n",
    "Also, it becomes evident that the majority of students, irrespective of admission status, have 0 siblings or family members attending the same school.\n",
    "<br>\n",
    "To conclude, it is noticeable the presence of some outliers in both graphs."
   ]
  },
  {
   "cell_type": "code",
   "execution_count": null,
   "metadata": {
    "colab": {
     "base_uri": "https://localhost:8080/",
     "height": 398
    },
    "id": "cTBoIYrKQdas",
    "outputId": "a9a1b9b5-2621-4512-a344-de1c2595471f"
   },
   "outputs": [
    {
     "data": {
      "image/png": "[encoded data removed]",
      "text/plain": [
       "<Figure size 1440x360 with 1 Axes>"
      ]
     },
     "metadata": {
      "needs_background": "light"
     },
     "output_type": "display_data"
    }
   ],
   "source": [
    "# Students by Financial Background\n",
    "\n",
    "plt.figure(figsize = (20, 5))\n",
    "\n",
    "sns.countplot(data = train_data_copy, x = 'Financial Background Binned', hue = 'Admitted in School', palette = my_palette).set(title = \"Count of students by Financial Background\")\n",
    "\n",
    "plt.legend(['Not admitted', 'Admitted'], bbox_to_anchor = (1.05, 1), loc = 2, borderaxespad = 0.)\n",
    "\n",
    "plt.ylabel('Number of students')\n",
    "\n",
    "plt.show()"
   ]
  },
  {
   "cell_type": "markdown",
   "metadata": {
    "id": "lgolTOOqQdas"
   },
   "source": [
    "It is noticeable that among both admitted and non-admitted individuals, there is a significant prevalence of those with a financial background concentrated between 0 and 50.\n",
    "<br>\n",
    "We can clearly note some outliers on the right-hand side of the graph."
   ]
  },
  {
   "cell_type": "markdown",
   "metadata": {
    "id": "OWh_h39SQdas"
   },
   "source": [
    "<a id=\"2.2.2\"></a>    \n",
    "\n",
    "### <font color='#00000'>2.2.2 Categorical Data<font>"
   ]
  },
  {
   "cell_type": "markdown",
   "metadata": {
    "id": "ezwJnAecQdat"
   },
   "source": [
    "The provided function is designed to depict the distribution of categorical features concerning the target variable using stacked bar charts.\n",
    "<br>\n",
    "This visualization is presented in both absolute and relative terms."
   ]
  },
  {
   "cell_type": "code",
   "execution_count": null,
   "metadata": {
    "id": "RB6NuE9fQdat"
   },
   "outputs": [],
   "source": [
    "def stacked_bar_charts(df, feature, target):\n",
    "    contingency_table = pd.crosstab(df[feature], df[target], margins = True) # Frequency of occurrences for each combination of the categorical feature and the binary target variable.\n",
    "    categories = contingency_table.index[:-1]\n",
    "\n",
    "    fig = plt.figure(figsize = (20, 5))\n",
    "\n",
    "    # Frequency Bar Chart\n",
    "    plt.subplot(121) # 1 row, 2 columns, subplot 1\n",
    "    bottom = plt.bar(categories, contingency_table.iloc[:-1, 0].values, 0.5, color = \"silver\") # The width of the bars is 0.5\n",
    "    top = plt.bar(categories, contingency_table.iloc[:-1, 1].values, 0.5, bottom = contingency_table.iloc[:-1, 0], color = \"darkgreen\")\n",
    "    plt.legend((top[0], bottom[0]), ('Admitted', 'Not admitted'))\n",
    "    plt.title(\"Frequency bar chart\")\n",
    "    plt.xlabel(feature)\n",
    "    plt.ylabel(\"Frequency\")\n",
    "\n",
    "    # Proportion Bar Chart\n",
    "    proportions = np.array([np.divide(contingency_table.iloc[:-1, 0].values, contingency_table.iloc[:-1, 2].values), np.divide(contingency_table.iloc[:-1, 1].values, contingency_table.iloc[:-1, 2].values)])\n",
    "    plt.subplot(122) # 1 row, 2 columns, subplot 2\n",
    "    bottom = plt.bar(categories, proportions[0], 0.5, color = \"silver\")\n",
    "    top = plt.bar(categories, proportions[1], 0.5, bottom = proportions[0], color = \"darkgreen\")\n",
    "    plt.legend((top[0], bottom[0]), ('Admitted', 'Not admitted'))\n",
    "    plt.title(\"Proportion bar chart\")\n",
    "    plt.xlabel(feature)\n",
    "    plt.ylabel(\"Proportion\")\n",
    "\n",
    "    plt.show()"
   ]
  },
  {
   "cell_type": "code",
   "execution_count": null,
   "metadata": {
    "colab": {
     "base_uri": "https://localhost:8080/",
     "height": 1000
    },
    "id": "qvlWccNpQdat",
    "outputId": "03f542ed-ceea-4c3b-d4b2-ccce6a473ae7",
    "scrolled": false
   },
   "outputs": [
    {
     "data": {
      "image/png": "[encoded data removed]",
      "text/plain": [
       "<Figure size 1440x360 with 2 Axes>"
      ]
     },
     "metadata": {
      "needs_background": "light"
     },
     "output_type": "display_data"
    },
    {
     "data": {
      "image/png": "[encoded data removed]",
      "text/plain": [
       "<Figure size 1440x360 with 2 Axes>"
      ]
     },
     "metadata": {
      "needs_background": "light"
     },
     "output_type": "display_data"
    },
    {
     "data": {
      "image/png": "[encoded data removed]",
      "text/plain": [
       "<Figure size 1440x360 with 2 Axes>"
      ]
     },
     "metadata": {
      "needs_background": "light"
     },
     "output_type": "display_data"
    },
    {
     "data": {
      "image/png": "[encoded data removed]",
      "text/plain": [
       "<Figure size 1440x360 with 2 Axes>"
      ]
     },
     "metadata": {
      "needs_background": "light"
     },
     "output_type": "display_data"
    }
   ],
   "source": [
    "categorical_features = ['Program', 'Student Gender','School of Origin', 'Favourite Study Element']\n",
    "for column in categorical_features:\n",
    "    stacked_bar_charts(train_data_copy, column, 'Admitted in School' )"
   ]
  },
  {
   "cell_type": "markdown",
   "metadata": {
    "id": "HEL2C2tXqmtQ"
   },
   "source": [
    "All the features present an unbalanced distribution for each category, which might bias further analysis."
   ]
  },
  {
   "cell_type": "markdown",
   "metadata": {
    "id": "aSu0QAH-Qdau"
   },
   "source": [
    "<a id=\"2.3\"></a>     \n",
    "    \n",
    "## <font color='#00000'>2.3 Feature Engineering<font>"
   ]
  },
  {
   "cell_type": "markdown",
   "metadata": {
    "id": "QBRKK4wdQdau"
   },
   "source": [
    "<b>Experience Level Category</b>\n",
    "\n",
    "We've introduced a new feature named <u>Experience Level Category</u> to better understand the various stages of students' wizardry experience level.\n",
    "<br>\n",
    "This feature categorizes students into specific groups, providing insights into their progression within the wizardry school, in terms of their skill and knowledge.\n",
    "<br>\n",
    "The categories are defined as: Novice, Intermediate, Advanced and Master."
   ]
  },
  {
   "cell_type": "code",
   "execution_count": null,
   "metadata": {
    "id": "_aiVb-VbQdav"
   },
   "outputs": [],
   "source": [
    "train_data_copy['Experience Level Category'] = pd.qcut(train_data_copy['Experience Level'], q = [0, 0.2, 0.4, 0.6, 1],\n",
    "                            labels = ['Novice', 'Intermediate', 'Advanced', 'Master'])\n",
    "\n",
    "test_data_copy['Experience Level Category'] = pd.qcut(test_data_copy['Experience Level'], q = [0, 0.2, 0.4, 0.6, 1],\n",
    "                            labels = ['Novice', 'Intermediate', 'Advanced', 'Master'])\n",
    "\n",
    "categorical_features.append('Experience Level Category')"
   ]
  },
  {
   "cell_type": "markdown",
   "metadata": {
    "id": "IgeMcM-9Qdav"
   },
   "source": [
    "<b>Financial Background Category</b>\n",
    "\n",
    "In our continuous efforts to enrich our analysis, we have introduced another feature called <u>Financial Background Category</u>.\n",
    "<br>\n",
    "This categorical variable is derived from the existing 'Financial Background' feature and classifies students into distinct groups, providing a more nuanced understanding of their economic circumstances.\n",
    "<br>\n",
    "The categories are defined as: Low, Medium and High."
   ]
  },
  {
   "cell_type": "code",
   "execution_count": null,
   "metadata": {
    "id": "idsywVNUQdav"
   },
   "outputs": [],
   "source": [
    "train_data_copy['Financial Background Category'] = pd.qcut(train_data_copy['Financial Background'], q = [0, 0.33, 0.66, 1], labels = ['Low', 'Medium', 'High'])\n",
    "\n",
    "test_data_copy['Financial Background Category'] = pd.qcut(test_data_copy['Financial Background'], q = [0, 0.33, 0.66, 1], labels = ['Low', 'Medium', 'High'])\n",
    "\n",
    "categorical_features.append('Financial Background Category')"
   ]
  },
  {
   "cell_type": "markdown",
   "metadata": {
    "id": "KiwjTqQxQdaw"
   },
   "source": [
    "<a id=\"2.4\"></a>    \n",
    "    \n",
    "## <font color='#00000'>2.4 Data Partitioning<font>"
   ]
  },
  {
   "cell_type": "code",
   "execution_count": null,
   "metadata": {
    "id": "iXHiJ3tXQdaw"
   },
   "outputs": [],
   "source": [
    "X = train_data_copy.drop('Admitted in School', axis = 1)\n",
    "y = train_data_copy['Admitted in School']"
   ]
  },
  {
   "cell_type": "code",
   "execution_count": null,
   "metadata": {
    "id": "qGfkml2IQdaw"
   },
   "outputs": [],
   "source": [
    "X_train, X_val, y_train, y_val = train_test_split(X, y, train_size = 0.7, shuffle = True, random_state= 5, stratify = y)"
   ]
  },
  {
   "cell_type": "markdown",
   "metadata": {
    "id": "-4DG1KbcQdaw"
   },
   "source": [
    "<a id=\"2.5\"></a>     \n",
    "    \n",
    "## <font color='#00000'>2.5 Encoding<font>"
   ]
  },
  {
   "cell_type": "code",
   "execution_count": null,
   "metadata": {
    "id": "It3zy-CDqmtU"
   },
   "outputs": [],
   "source": [
    "# Categorical and numerical distinction\n",
    "X_train_numerical = X_train.select_dtypes(include = np.number).set_index(X_train.index)\n",
    "X_train_categorical = X_train.select_dtypes(exclude = np.number).set_index(X_train.index).drop(['Experience Level Binned', 'Financial Background Binned'], axis = 1)\n",
    "\n",
    "X_val_numerical = X_val.select_dtypes(include = np.number).set_index(X_val.index)\n",
    "X_val_categorical = X_val.select_dtypes(exclude = np.number).set_index(X_val.index).drop(['Experience Level Binned', 'Financial Background Binned'], axis = 1)\n",
    "\n",
    "test_numerical = test_data_copy.select_dtypes(include = np.number).set_index(test_data_copy.index)\n",
    "test_categorical = test_data_copy.select_dtypes(exclude = np.number).set_index(test_data_copy.index)"
   ]
  },
  {
   "cell_type": "code",
   "execution_count": null,
   "metadata": {
    "id": "E2X8r-eIQday"
   },
   "outputs": [],
   "source": [
    "# Applying the encoder to the training, validation and testing sets\n",
    "\n",
    "Encoder = OneHotEncoder().fit(X_train_categorical)\n",
    "\n",
    "# Training data\n",
    "X_train_categorical_encoded = Encoder.transform(X_train_categorical).toarray()\n",
    "X_train_categorical_encoded = pd.DataFrame(X_train_categorical_encoded, columns = Encoder.get_feature_names_out(categorical_features), index = X_train_categorical.index)\n",
    "\n",
    "# Validation data\n",
    "X_val_categorical_encoded = Encoder.transform(X_val_categorical).toarray()\n",
    "X_val_categorical_encoded = pd.DataFrame(X_val_categorical_encoded, columns = Encoder.get_feature_names_out(categorical_features), index = X_val_categorical.index)\n",
    "\n",
    "# Testing data\n",
    "test_categorical_encoded = Encoder.transform(test_categorical).toarray()\n",
    "test_categorical_encoded = pd.DataFrame(test_categorical_encoded, columns = Encoder.get_feature_names_out(categorical_features), index = test_categorical.index)\n"
   ]
  },
  {
   "cell_type": "markdown",
   "metadata": {
    "id": "6NVAqhJSQday"
   },
   "source": [
    "<a id=\"2.6\"></a>     \n",
    "    \n",
    "## <font color='#00000'>2.6 Scaling<font>"
   ]
  },
  {
   "cell_type": "markdown",
   "metadata": {
    "id": "gmp5UTzCQdaz"
   },
   "source": [
    "Previously, it was concluded that some predictors contained outliers, such as, <u>Experience Level</u>, <u>Student Siblings</u>, <u>Student Family</u>, and <u>Financial Background</u>.\n",
    "<br>\n",
    "Recognizing that the presence of outliers can negatively affect predictive models, the data was scaled using the Robust Scaler, which, after careful analysis, was concluded to be the best at minimizing the influence of outliers.\n",
    "<br>\n",
    "It is important to note that only the non-boolean features were subjected to scaling."
   ]
  },
  {
   "cell_type": "code",
   "execution_count": null,
   "metadata": {
    "id": "iZE-RqbzqmtV"
   },
   "outputs": [],
   "source": [
    "# Identify the columns to scale (excluding 'STUDENT ID')\n",
    "numerical_columns = [col for col in X_train_numerical.columns if col != 'Student ID']\n",
    "\n",
    "# Fitting the scaler on training data\n",
    "robust_scaler = RobustScaler().fit(X_train_numerical[numerical_columns])\n",
    "\n",
    "# Transforming training data\n",
    "X_train_scaled = robust_scaler.transform(X_train_numerical[numerical_columns])\n",
    "X_train_scaled = pd.DataFrame(X_train_scaled, columns=numerical_columns).set_index(X_train_numerical.index)\n",
    "\n",
    "# Transforming validation data\n",
    "X_val_scaled = robust_scaler.transform(X_val_numerical[numerical_columns])\n",
    "X_val_scaled = pd.DataFrame(X_val_scaled, columns=numerical_columns).set_index(X_val_numerical.index)\n",
    "\n",
    "# Transforming test data\n",
    "test_numerical_scaled = robust_scaler.transform(test_numerical[numerical_columns])\n",
    "test_numerical_scaled = pd.DataFrame(test_numerical_scaled, columns=numerical_columns).set_index(test_numerical.index)\n"
   ]
  },
  {
   "cell_type": "code",
   "execution_count": null,
   "metadata": {
    "id": "YZxZzIVSqmtW"
   },
   "outputs": [],
   "source": [
    "test_final = test_numerical_scaled.join(test_categorical_encoded)"
   ]
  },
  {
   "cell_type": "markdown",
   "metadata": {
    "id": "744iIBduQda0"
   },
   "source": [
    "For the rest of this project we will primarily use the data scaled with Robust scaling."
   ]
  },
  {
   "cell_type": "markdown",
   "metadata": {
    "id": "euijL4_VQda0"
   },
   "source": [
    "<a id=\"3\"></a>     \n",
    "    \n",
    "# **<font color='#00000'>3. Feature Selection<font>**"
   ]
  },
  {
   "cell_type": "markdown",
   "metadata": {
    "id": "rAGxVyhDQda0"
   },
   "source": [
    "<a id=\"3.1\"></a>     \n",
    "    \n",
    "## <font color='#00000'>3.1 Filter Methods<font>"
   ]
  },
  {
   "cell_type": "markdown",
   "metadata": {
    "id": "MnnklD7fBOoG"
   },
   "source": [
    "<a id=\"3.1.1\"></a>     \n",
    "    \n",
    "### <font color='#00000'>3.1.1 Univariate Variables<font>"
   ]
  },
  {
   "cell_type": "code",
   "execution_count": null,
   "metadata": {
    "colab": {
     "base_uri": "https://localhost:8080/"
    },
    "id": "ymWGrB-EQda1",
    "outputId": "a256cf15-dade-470f-cafc-4dd866f03d56"
   },
   "outputs": [
    {
     "data": {
      "text/plain": [
       "Student Social Influence    0.330371\n",
       "Student Family              0.657459\n",
       "Experience Level            0.976979\n",
       "Student Siblings            1.319523\n",
       "Financial Background        5.166239\n",
       "dtype: float64"
      ]
     },
     "execution_count": 32,
     "metadata": {},
     "output_type": "execute_result"
    }
   ],
   "source": [
    "X_train_scaled.var().sort_values()"
   ]
  },
  {
   "cell_type": "markdown",
   "metadata": {
    "id": "DnkhUrmNQda1"
   },
   "source": [
    "\n",
    "We conclude that all variables in the dataset exhibit non-zero variance, indicating diversity and variability in their values. This is beneficial for statistical analyses and modeling."
   ]
  },
  {
   "cell_type": "markdown",
   "metadata": {
    "id": "e07mULPUQda1"
   },
   "source": [
    "<a id=\"3.1.2\"></a>     \n",
    "    \n",
    "### <font color='#00000'>3.1.2 Spearman's Correlation Analysis<font>"
   ]
  },
  {
   "cell_type": "markdown",
   "metadata": {
    "id": "ZW_PMrxSQda2"
   },
   "source": [
    "We will now examine the Spearman correlation between variables. To facilitate this analysis, a new dataframe has been created using all the training data, including the dependent variable. This inclusion allows us to investigate whether any of the independent variables exhibit correlations with the target variable. The Spearman correlation analysis provides valuable insights into potential monotonic relationships and aids in identifying key features that may influence the target variable."
   ]
  },
  {
   "cell_type": "code",
   "execution_count": null,
   "metadata": {
    "colab": {
     "base_uri": "https://localhost:8080/",
     "height": 518
    },
    "id": "RbyGoGDBQda2",
    "outputId": "36f14f81-d6af-407d-c52f-24fa79818a33"
   },
   "outputs": [
    {
     "data": {
      "image/png": "[encoded data removed]",
      "text/plain": [
       "<Figure size 1440x432 with 2 Axes>"
      ]
     },
     "metadata": {
      "needs_background": "light"
     },
     "output_type": "display_data"
    }
   ],
   "source": [
    "# Joining the numeric observations with the outcome\n",
    "all_train_numerical = X_train_scaled.join(y_train)\n",
    "\n",
    "# Computing Spearman's Correlation\n",
    "correlation = all_train_numerical.corr(method = 'spearman')\n",
    "\n",
    "# Plotting the lower triangle of the correlation map\n",
    "def corr_heatmap(correlation):\n",
    "    plt.figure(figsize=(20, 6))\n",
    "    ax = sns.heatmap(data = correlation, annot = True, mask = np.triu(np.ones_like(correlation)), cmap = 'Greens', fmt = '.1')\n",
    "    ax.set_title(\"Spearman's Correlation Heatmap\", fontdict = {'fontsize': 15})\n",
    "    plt.show()\n",
    "\n",
    "corr_heatmap(correlation)"
   ]
  },
  {
   "cell_type": "markdown",
   "metadata": {
    "id": "kqQ5VeygQda2"
   },
   "source": [
    "In summary, the analysis reveals that no independent variable is highly correlated with the target variable. Despite this, a subtle correlation exists between <u>student family</u> and <u>financial background</u> with <u>student siblings</u> which aligns with logical expectations.\n",
    "\n",
    "Given the absence of strong correlations, it is essential to employ alternative feature selection techniques to gain deeper insights into the dataset."
   ]
  },
  {
   "cell_type": "markdown",
   "metadata": {
    "id": "vZtJVutzQda2"
   },
   "source": [
    "<a id=\"3.1.3\"></a>     \n",
    "    \n",
    "### <font color='#00000'>3.1.3 Chi-Square Test<font>"
   ]
  },
  {
   "cell_type": "markdown",
   "metadata": {
    "id": "XPIpb4uWqmta"
   },
   "source": [
    "Subsequently, the focus shifts to assessing the independence of categorical features concerning the target variable using a Chi-Squared test with a significance level of 5%. This statistical test aims to determine whether there is a significant association between categorical features and the target variable.\n",
    "\n",
    "The function used for the Chi-Squared test has been extracted from machine learning lectures. This approach contributes to a comprehensive feature selection process, providing a solid foundation for subsequent modeling and analysis."
   ]
  },
  {
   "cell_type": "code",
   "execution_count": null,
   "metadata": {
    "id": "obwuDrtxQda3"
   },
   "outputs": [],
   "source": [
    "def TestIndependence(X,y,var,alpha=0.05):\n",
    "    dfObserved = pd.crosstab(y,X)\n",
    "    chi2, p, dof, expected = stats.chi2_contingency(dfObserved.values)\n",
    "    dfExpected = pd.DataFrame(expected, columns=dfObserved.columns, index = dfObserved.index)\n",
    "    if p<alpha:\n",
    "        result = \"{0} is an IMPORTANT predictor\".format(var)\n",
    "    else:\n",
    "        result = \"{0} is NOT an important predictor. (Discard {0} from model)\".format(var)\n",
    "    print(result)"
   ]
  },
  {
   "cell_type": "code",
   "execution_count": null,
   "metadata": {
    "colab": {
     "base_uri": "https://localhost:8080/"
    },
    "id": "llI7jk7zQda3",
    "outputId": "f351c6b7-23ae-463d-ba16-fb43072765e4"
   },
   "outputs": [
    {
     "name": "stdout",
     "output_type": "stream",
     "text": [
      "Program is an IMPORTANT predictor\n",
      "Student Gender is an IMPORTANT predictor\n",
      "School of Origin is an IMPORTANT predictor\n",
      "Favourite Study Element is NOT an important predictor. (Discard Favourite Study Element from model)\n",
      "Experience Level Category is an IMPORTANT predictor\n",
      "Financial Background Category is an IMPORTANT predictor\n"
     ]
    }
   ],
   "source": [
    "for variable in X_train_categorical.columns:\n",
    "    TestIndependence(X_train_categorical[variable], y_train, variable)"
   ]
  },
  {
   "cell_type": "markdown",
   "metadata": {
    "id": "Vn_3fdrNQda4"
   },
   "source": [
    "Based on the Chi-Squared test results, the recommendation is to exclude the <u>Favourite Study Element</u> from the final model."
   ]
  },
  {
   "cell_type": "markdown",
   "metadata": {
    "id": "J6X_nVfZQda4"
   },
   "source": [
    "<a id=\"3.2\"></a>     \n",
    "    \n",
    "## <font color='#00000'>3.2 Wrapper Methods<font>"
   ]
  },
  {
   "cell_type": "markdown",
   "metadata": {
    "id": "V3Mi33TqQda4"
   },
   "source": [
    "This section focuses on the adoption of Wrapper Methods for feature selection. By training diverse predictive models with varying feature combinations and comparing their performances, Wrapper Methods aim to identify the most impactful subset of features.\n",
    "\n",
    "This iterative approach, characterized by its model-centric nature, ensures a meticulous evaluation aligned with the specific goals of our project.\n",
    "\n",
    "Wrapper Methods offer a robust framework to discern the optimal set of features that will contribute most effectively to our model's overall performance."
   ]
  },
  {
   "cell_type": "code",
   "execution_count": null,
   "metadata": {
    "id": "QfUJ8JZAQda5"
   },
   "outputs": [],
   "source": [
    "model = LogisticRegression()"
   ]
  },
  {
   "cell_type": "markdown",
   "metadata": {
    "id": "4-zCvNyBQda6"
   },
   "source": [
    "<a id=\"3.2.1\"></a>     \n",
    "    \n",
    "### <font color='#00000'>3.2.1 Recursive Feature Elimination (RFE)<font>"
   ]
  },
  {
   "cell_type": "markdown",
   "metadata": {
    "id": "awugsJ6rQda6"
   },
   "source": [
    "**Optimum number of features**"
   ]
  },
  {
   "cell_type": "markdown",
   "metadata": {
    "id": "L7hwTwXYQda6"
   },
   "source": [
    "The subsequent function, derived from the lectures of the Machine Learning course, is designed to determine the optimal number of features to select using the **RFE** method. It utilizes a **Logistic Regression** instance as the underlying estimator."
   ]
  },
  {
   "cell_type": "code",
   "execution_count": null,
   "metadata": {
    "colab": {
     "base_uri": "https://localhost:8080/"
    },
    "id": "eJT9ld6cQda6",
    "outputId": "bae3970d-07df-4065-e36b-a0a83eab5211"
   },
   "outputs": [
    {
     "name": "stdout",
     "output_type": "stream",
     "text": [
      "Optimum number of features: 5\n",
      "Score with 5 features: 0.705607\n"
     ]
    }
   ],
   "source": [
    "# Number of features\n",
    "nof_list = np.arange(1,8)\n",
    "high_score = 0\n",
    "\n",
    "# Variable to store the optimum features\n",
    "nof = 0\n",
    "score_list = []\n",
    "for n in range(len(nof_list)):\n",
    "    rfe = RFE(model,n_features_to_select = nof_list[n])\n",
    "    X_train_rfe = rfe.fit_transform(X_train_scaled,y_train)\n",
    "    X_val_rfe = rfe.transform(X_val_scaled)\n",
    "    model.fit(X_train_rfe,y_train)\n",
    "\n",
    "    score = model.score(X_val_rfe,y_val)\n",
    "    score_list.append(score)\n",
    "\n",
    "    if(score > high_score):\n",
    "        high_score = score\n",
    "        nof = nof_list[n]\n",
    "\n",
    "print(\"Optimum number of features: %d\" %nof)\n",
    "print(\"Score with %d features: %f\" % (nof, high_score))"
   ]
  },
  {
   "cell_type": "markdown",
   "metadata": {
    "id": "LqYMICi7Qda7"
   },
   "source": [
    "The optimum number of features for this method if 5. Thus, 5 features will be selected by the Recursive Feature Elimination method."
   ]
  },
  {
   "cell_type": "markdown",
   "metadata": {
    "id": "SPWwpAisQda7"
   },
   "source": [
    "**Selecting the Features**"
   ]
  },
  {
   "cell_type": "code",
   "execution_count": null,
   "metadata": {
    "colab": {
     "base_uri": "https://localhost:8080/"
    },
    "id": "CBax3JA0Qda8",
    "outputId": "e56b5725-c456-4828-cd83-c34ba941dfc7"
   },
   "outputs": [
    {
     "data": {
      "text/plain": [
       "Experience Level            True\n",
       "Student Siblings            True\n",
       "Student Family              True\n",
       "Financial Background        True\n",
       "Student Social Influence    True\n",
       "dtype: bool"
      ]
     },
     "execution_count": 38,
     "metadata": {},
     "output_type": "execute_result"
    }
   ],
   "source": [
    "rfe = RFE(estimator = model, n_features_to_select = nof)\n",
    "rfe_fitted = rfe.fit_transform(X_train_scaled, y_train)\n",
    "selected_features = pd.Series(rfe.support_, index = X_train_scaled.columns)\n",
    "selected_features"
   ]
  },
  {
   "cell_type": "markdown",
   "metadata": {
    "id": "n-9B4hVDQda8"
   },
   "source": [
    "<a id=\"3.2.2\"></a>     \n",
    "    \n",
    "### <font color='#00000'>3.2.2 Sequential Forward Selection (SFS)<font>"
   ]
  },
  {
   "cell_type": "markdown",
   "metadata": {
    "id": "_0xqtSuvQda8"
   },
   "source": [
    "**Optimum number of features**"
   ]
  },
  {
   "cell_type": "markdown",
   "metadata": {
    "id": "o2iNi8NhQda8"
   },
   "source": [
    "\n",
    "The code cell previously employed to identify the optimal number of features through RFE has been repurposed and adjusted to execute a similar procedure, but this time for <b>Forward / Sequential Feature Selection</b>."
   ]
  },
  {
   "cell_type": "code",
   "execution_count": null,
   "metadata": {
    "colab": {
     "base_uri": "https://localhost:8080/"
    },
    "id": "zMwveDWuQda9",
    "outputId": "403b166c-051b-4470-8c6c-902a1acf413d"
   },
   "outputs": [
    {
     "name": "stdout",
     "output_type": "stream",
     "text": [
      "Optimum number of features: 2\n",
      "Score with 2 features: 0.686916\n"
     ]
    }
   ],
   "source": [
    "# Number of features\n",
    "nof_list = np.arange(1, min(X_train_scaled.shape[1], 8))\n",
    "high_score = 0\n",
    "nof = 0\n",
    "score_list = []\n",
    "\n",
    "for n in range(len(nof_list)):\n",
    "    sfs = SequentialFeatureSelector(model, n_features_to_select = nof_list[n])\n",
    "    X_train_sfs = sfs.fit_transform(X_train_scaled, y_train)\n",
    "    X_val_sfs = sfs.transform(X_val_scaled)\n",
    "    model.fit(X_train_sfs, y_train)\n",
    "\n",
    "    score = model.score(X_val_sfs, y_val)\n",
    "    score_list.append(score)\n",
    "\n",
    "    if score > high_score:\n",
    "        high_score = score\n",
    "        nof = nof_list[n]\n",
    "\n",
    "print(\"Optimum number of features: %d\" % nof)\n",
    "print(\"Score with %d features: %f\" % (nof, high_score))"
   ]
  },
  {
   "cell_type": "markdown",
   "metadata": {
    "id": "zjI_CBQHqmtf"
   },
   "source": [
    "The optimum number of features for this method is 2. Thus, 2 features will be selected by the Sequential Feature Selection method."
   ]
  },
  {
   "cell_type": "markdown",
   "metadata": {
    "id": "otTj0s9oQda9"
   },
   "source": [
    "**Selecting the Features**"
   ]
  },
  {
   "cell_type": "code",
   "execution_count": null,
   "metadata": {
    "colab": {
     "base_uri": "https://localhost:8080/"
    },
    "id": "J1UENQnzQda9",
    "outputId": "205c3472-8765-4aca-88d9-fa5e28e0ef91"
   },
   "outputs": [
    {
     "data": {
      "text/plain": [
       "Experience Level            False\n",
       "Student Siblings            False\n",
       "Student Family              False\n",
       "Financial Background         True\n",
       "Student Social Influence     True\n",
       "dtype: bool"
      ]
     },
     "execution_count": 40,
     "metadata": {},
     "output_type": "execute_result"
    }
   ],
   "source": [
    "sfs = SequentialFeatureSelector(estimator = model, n_features_to_select = nof)\n",
    "sfs_fitted = sfs.fit_transform(X_train_scaled, y_train)\n",
    "selected_features = pd.Series(sfs.support_, index = X_train_scaled.columns)\n",
    "selected_features"
   ]
  },
  {
   "cell_type": "markdown",
   "metadata": {
    "id": "I9Op4uAyQda-"
   },
   "source": [
    "<a id=\"3.3\"></a>     \n",
    "    \n",
    "## <font color='#00000'>3.3 Embedded Methods<font>"
   ]
  },
  {
   "cell_type": "markdown",
   "metadata": {
    "id": "xB9HhTuSQda-"
   },
   "source": [
    "Moreover, Embedded Methods were utilized. This technique involves selecting features during the training of predictive models, taking into account their importance."
   ]
  },
  {
   "cell_type": "markdown",
   "metadata": {
    "id": "7TS3JZmGQda_"
   },
   "source": [
    "<a id=\"3.3.1\"></a>     \n",
    "    \n",
    "### <font color='#00000'>3.3.1 Lasso Regression<font>"
   ]
  },
  {
   "cell_type": "markdown",
   "metadata": {
    "id": "8G-Q8cE7Qda_"
   },
   "source": [
    "The following function was extracted from the Machine Learning classes and serves the purpose of visualizing the features importance according to the **Lasso Regression**."
   ]
  },
  {
   "cell_type": "code",
   "execution_count": null,
   "metadata": {
    "colab": {
     "base_uri": "https://localhost:8080/",
     "height": 468
    },
    "id": "mmQbctmHQda_",
    "outputId": "59631b3f-8d89-4641-aa14-b68b0fe09de1"
   },
   "outputs": [
    {
     "data": {
      "image/png": "[encoded data removed]",
      "text/plain": [
       "<Figure size 720x360 with 1 Axes>"
      ]
     },
     "metadata": {
      "needs_background": "light"
     },
     "output_type": "display_data"
    }
   ],
   "source": [
    "def plot_importance(coef,name):\n",
    "    imp_coef = coef.sort_values()\n",
    "    plt.figure(figsize = (10, 5))\n",
    "    imp_coef.plot(kind = \"barh\", color = 'darkgreen')\n",
    "    plt.title(\"Feature importance using \" + name + \" Model\")\n",
    "    plt.show()\n",
    "\n",
    "reg = LassoCV()\n",
    "\n",
    "reg.fit(X_train_scaled, y_train)\n",
    "\n",
    "coef = pd.Series(reg.coef_, index = X_train_scaled.columns)\n",
    "\n",
    "plot_importance(coef,'Lasso')"
   ]
  },
  {
   "cell_type": "markdown",
   "metadata": {
    "id": "-8W1kdu2SSLd"
   },
   "source": [
    "According to Lasso Regression, we should discard the **Student Family** variable, since it seems insignificant for the definition of the target comparing to the remaining predictors."
   ]
  },
  {
   "cell_type": "markdown",
   "metadata": {
    "id": "TP-9wYIwZNFG"
   },
   "source": [
    "<a id=\"3.3.2\"></a>     \n",
    "    \n",
    "### <font color='#00000'>3.3.2 Decision Tree<font>"
   ]
  },
  {
   "cell_type": "markdown",
   "metadata": {
    "id": "RaeMwKJQZwKq"
   },
   "source": [
    "To mitigate ambiguity and address potential ties arising from the previously described Feature Selection techniques, a Decision Tree was trainned on the filtered data."
   ]
  },
  {
   "cell_type": "code",
   "execution_count": null,
   "metadata": {
    "colab": {
     "base_uri": "https://localhost:8080/",
     "height": 482
    },
    "id": "3TrKSqBsYC0E",
    "outputId": "8f75e269-234a-428c-f3bb-0f840065884a"
   },
   "outputs": [
    {
     "data": {
      "text/plain": [
       "<AxesSubplot:xlabel='Value', ylabel='Features'>"
      ]
     },
     "execution_count": 42,
     "metadata": {},
     "output_type": "execute_result"
    },
    {
     "data": {
      "image/png": "[encoded data removed]",
      "text/plain": [
       "<Figure size 576x360 with 1 Axes>"
      ]
     },
     "metadata": {
      "needs_background": "light"
     },
     "output_type": "display_data"
    }
   ],
   "source": [
    "gini_importance = DecisionTreeClassifier(splitter='random', random_state=42).fit(X_train_scaled, y_train).feature_importances_\n",
    "entropy_importance = DecisionTreeClassifier(criterion='entropy', splitter='random', random_state=42).fit(X_train_scaled, y_train).feature_importances_\n",
    "\n",
    "zippy = pd.DataFrame(zip(gini_importance, entropy_importance), columns=['gini', 'entropy'])\n",
    "zippy['Features'] = X_train_scaled.columns\n",
    "tidy = zippy.melt(id_vars='Features').rename(columns=str.title)\n",
    "tidy.sort_values(['Value'], ascending=False, inplace=True)\n",
    "\n",
    "plt.figure(figsize=(8, 5))\n",
    "sns.barplot(y='Features', x='Value', hue='Variable', data=tidy, palette=['darkgreen', 'silver'])"
   ]
  },
  {
   "cell_type": "markdown",
   "metadata": {
    "id": "jl2dUxT7qmtm"
   },
   "source": [
    "The role of the **Student Family** variable remains identified as the least influencial predictor."
   ]
  },
  {
   "cell_type": "markdown",
   "metadata": {
    "id": "UdGkyG2vA2Yn"
   },
   "source": [
    "<a id=\"3.4\"></a>     \n",
    "    \n",
    "## <font color='#00000'>3.4 Final Insights<font>"
   ]
  },
  {
   "cell_type": "markdown",
   "metadata": {
    "id": "isTQHIgTfNNf"
   },
   "source": [
    "| Numerical Data |  Spearman's Correlation | RFE | SFS | Lasso | Decision Tree | Relevance |\n",
    "| --- | --- | --- | --- | --- | --- | --- |\n",
    "|  Experience Level | Discard |  Keep | Discard | Keep | Keep | **Keep** |\n",
    "|  Student Family | Discard |  Keep | Discard | Discard | Discard | **Discard** |\n",
    "|  Student Siblings | Discard  |  Keep | Discard| Keep | Discard | **Discard** |\n",
    "|  Student Social Influence | Discard  |  Keep | Keep | Keep | Keep | **Keep** |\n",
    "|  Financial Background  | Discard |  Keep | Keep| Keep | Keep | **Keep** |\n",
    "\n",
    "<br>\n",
    "\n",
    "| Categorical Data | Chi-Square |  Relevance |\n",
    "| --- | --- | --- |\n",
    "| Program | Keep |  **Keep**  |\n",
    "| Student Gender | Keep  | **Keep** |\n",
    "| School of Origin | Keep |  **Keep**  |\n",
    "| Favourite Study Element | Discard | **Discard** |\n",
    "| Experience Level Category | Keep | **Keep** |\n",
    "| Financial Category | Keep | **Keep** |"
   ]
  },
  {
   "cell_type": "code",
   "execution_count": null,
   "metadata": {
    "id": "L5nFez1Ci4D5"
   },
   "outputs": [],
   "source": [
    "# Join the scaled numerical data with the enconded categorical data\n",
    "\n",
    "# Training data\n",
    "X_train_join = X_train_scaled.join(X_train_categorical_encoded)\n",
    "\n",
    "# Validation data\n",
    "X_val_join = X_val_scaled.join(X_val_categorical_encoded)"
   ]
  },
  {
   "cell_type": "code",
   "execution_count": null,
   "metadata": {
    "colab": {
     "base_uri": "https://localhost:8080/",
     "height": 543
    },
    "id": "6iOxKOIycIim",
    "outputId": "d63351df-c0ab-49ad-a8ff-cfec9ec66072"
   },
   "outputs": [
    {
     "data": {
      "text/html": [
       "<div>\n",
       "<style scoped>\n",
       "    .dataframe tbody tr th:only-of-type {\n",
       "        vertical-align: middle;\n",
       "    }\n",
       "\n",
       "    .dataframe tbody tr th {\n",
       "        vertical-align: top;\n",
       "    }\n",
       "\n",
       "    .dataframe thead th {\n",
       "        text-align: right;\n",
       "    }\n",
       "</style>\n",
       "<table border=\"1\" class=\"dataframe\">\n",
       "  <thead>\n",
       "    <tr style=\"text-align: right;\">\n",
       "      <th></th>\n",
       "      <th>Experience Level</th>\n",
       "      <th>Student Siblings</th>\n",
       "      <th>Student Family</th>\n",
       "      <th>Financial Background</th>\n",
       "      <th>Student Social Influence</th>\n",
       "      <th>Program_Magi Academy</th>\n",
       "      <th>Program_Sorcery School</th>\n",
       "      <th>Program_Witchcraft Institute</th>\n",
       "      <th>Student Gender_female</th>\n",
       "      <th>Student Gender_male</th>\n",
       "      <th>...</th>\n",
       "      <th>Favourite Study Element_Earth</th>\n",
       "      <th>Favourite Study Element_Fire</th>\n",
       "      <th>Favourite Study Element_Water</th>\n",
       "      <th>Experience Level Category_Advanced</th>\n",
       "      <th>Experience Level Category_Intermediate</th>\n",
       "      <th>Experience Level Category_Master</th>\n",
       "      <th>Experience Level Category_Novice</th>\n",
       "      <th>Financial Background Category_High</th>\n",
       "      <th>Financial Background Category_Low</th>\n",
       "      <th>Financial Background Category_Medium</th>\n",
       "    </tr>\n",
       "  </thead>\n",
       "  <tbody>\n",
       "    <tr>\n",
       "      <th>537</th>\n",
       "      <td>0.000000</td>\n",
       "      <td>1.0</td>\n",
       "      <td>0.0</td>\n",
       "      <td>1.730840</td>\n",
       "      <td>0.500000</td>\n",
       "      <td>1.0</td>\n",
       "      <td>0.0</td>\n",
       "      <td>0.0</td>\n",
       "      <td>1.0</td>\n",
       "      <td>0.0</td>\n",
       "      <td>...</td>\n",
       "      <td>0.0</td>\n",
       "      <td>0.0</td>\n",
       "      <td>1.0</td>\n",
       "      <td>1.0</td>\n",
       "      <td>0.0</td>\n",
       "      <td>0.0</td>\n",
       "      <td>0.0</td>\n",
       "      <td>1.0</td>\n",
       "      <td>0.0</td>\n",
       "      <td>0.0</td>\n",
       "    </tr>\n",
       "    <tr>\n",
       "      <th>179</th>\n",
       "      <td>0.008413</td>\n",
       "      <td>0.0</td>\n",
       "      <td>0.0</td>\n",
       "      <td>-0.149114</td>\n",
       "      <td>0.833333</td>\n",
       "      <td>0.0</td>\n",
       "      <td>0.0</td>\n",
       "      <td>1.0</td>\n",
       "      <td>0.0</td>\n",
       "      <td>1.0</td>\n",
       "      <td>...</td>\n",
       "      <td>0.0</td>\n",
       "      <td>0.0</td>\n",
       "      <td>0.0</td>\n",
       "      <td>0.0</td>\n",
       "      <td>0.0</td>\n",
       "      <td>1.0</td>\n",
       "      <td>0.0</td>\n",
       "      <td>0.0</td>\n",
       "      <td>0.0</td>\n",
       "      <td>1.0</td>\n",
       "    </tr>\n",
       "    <tr>\n",
       "      <th>358</th>\n",
       "      <td>1.700721</td>\n",
       "      <td>0.0</td>\n",
       "      <td>0.0</td>\n",
       "      <td>0.756888</td>\n",
       "      <td>0.333333</td>\n",
       "      <td>1.0</td>\n",
       "      <td>0.0</td>\n",
       "      <td>0.0</td>\n",
       "      <td>0.0</td>\n",
       "      <td>1.0</td>\n",
       "      <td>...</td>\n",
       "      <td>1.0</td>\n",
       "      <td>0.0</td>\n",
       "      <td>0.0</td>\n",
       "      <td>0.0</td>\n",
       "      <td>0.0</td>\n",
       "      <td>1.0</td>\n",
       "      <td>0.0</td>\n",
       "      <td>1.0</td>\n",
       "      <td>0.0</td>\n",
       "      <td>0.0</td>\n",
       "    </tr>\n",
       "    <tr>\n",
       "      <th>638</th>\n",
       "      <td>0.000000</td>\n",
       "      <td>8.0</td>\n",
       "      <td>2.0</td>\n",
       "      <td>2.525857</td>\n",
       "      <td>-0.916667</td>\n",
       "      <td>0.0</td>\n",
       "      <td>1.0</td>\n",
       "      <td>0.0</td>\n",
       "      <td>1.0</td>\n",
       "      <td>0.0</td>\n",
       "      <td>...</td>\n",
       "      <td>0.0</td>\n",
       "      <td>0.0</td>\n",
       "      <td>0.0</td>\n",
       "      <td>1.0</td>\n",
       "      <td>0.0</td>\n",
       "      <td>0.0</td>\n",
       "      <td>0.0</td>\n",
       "      <td>1.0</td>\n",
       "      <td>0.0</td>\n",
       "      <td>0.0</td>\n",
       "    </tr>\n",
       "    <tr>\n",
       "      <th>699</th>\n",
       "      <td>0.000000</td>\n",
       "      <td>0.0</td>\n",
       "      <td>0.0</td>\n",
       "      <td>-0.194414</td>\n",
       "      <td>-0.416667</td>\n",
       "      <td>0.0</td>\n",
       "      <td>1.0</td>\n",
       "      <td>0.0</td>\n",
       "      <td>0.0</td>\n",
       "      <td>1.0</td>\n",
       "      <td>...</td>\n",
       "      <td>0.0</td>\n",
       "      <td>1.0</td>\n",
       "      <td>0.0</td>\n",
       "      <td>1.0</td>\n",
       "      <td>0.0</td>\n",
       "      <td>0.0</td>\n",
       "      <td>0.0</td>\n",
       "      <td>0.0</td>\n",
       "      <td>0.0</td>\n",
       "      <td>1.0</td>\n",
       "    </tr>\n",
       "  </tbody>\n",
       "</table>\n",
       "<p>5 rows × 24 columns</p>\n",
       "</div>"
      ],
      "text/plain": [
       "     Experience Level  Student Siblings  Student Family  Financial Background  \\\n",
       "537          0.000000               1.0             0.0              1.730840   \n",
       "179          0.008413               0.0             0.0             -0.149114   \n",
       "358          1.700721               0.0             0.0              0.756888   \n",
       "638          0.000000               8.0             2.0              2.525857   \n",
       "699          0.000000               0.0             0.0             -0.194414   \n",
       "\n",
       "     Student Social Influence  Program_Magi Academy  Program_Sorcery School  \\\n",
       "537                  0.500000                   1.0                     0.0   \n",
       "179                  0.833333                   0.0                     0.0   \n",
       "358                  0.333333                   1.0                     0.0   \n",
       "638                 -0.916667                   0.0                     1.0   \n",
       "699                 -0.416667                   0.0                     1.0   \n",
       "\n",
       "     Program_Witchcraft Institute  Student Gender_female  Student Gender_male  \\\n",
       "537                           0.0                    1.0                  0.0   \n",
       "179                           1.0                    0.0                  1.0   \n",
       "358                           0.0                    0.0                  1.0   \n",
       "638                           0.0                    1.0                  0.0   \n",
       "699                           0.0                    0.0                  1.0   \n",
       "\n",
       "     ...  Favourite Study Element_Earth  Favourite Study Element_Fire  \\\n",
       "537  ...                            0.0                           0.0   \n",
       "179  ...                            0.0                           0.0   \n",
       "358  ...                            1.0                           0.0   \n",
       "638  ...                            0.0                           0.0   \n",
       "699  ...                            0.0                           1.0   \n",
       "\n",
       "     Favourite Study Element_Water  Experience Level Category_Advanced  \\\n",
       "537                            1.0                                 1.0   \n",
       "179                            0.0                                 0.0   \n",
       "358                            0.0                                 0.0   \n",
       "638                            0.0                                 1.0   \n",
       "699                            0.0                                 1.0   \n",
       "\n",
       "     Experience Level Category_Intermediate  Experience Level Category_Master  \\\n",
       "537                                     0.0                               0.0   \n",
       "179                                     0.0                               1.0   \n",
       "358                                     0.0                               1.0   \n",
       "638                                     0.0                               0.0   \n",
       "699                                     0.0                               0.0   \n",
       "\n",
       "     Experience Level Category_Novice  Financial Background Category_High  \\\n",
       "537                               0.0                                 1.0   \n",
       "179                               0.0                                 0.0   \n",
       "358                               0.0                                 1.0   \n",
       "638                               0.0                                 1.0   \n",
       "699                               0.0                                 0.0   \n",
       "\n",
       "     Financial Background Category_Low  Financial Background Category_Medium  \n",
       "537                                0.0                                   0.0  \n",
       "179                                0.0                                   1.0  \n",
       "358                                0.0                                   0.0  \n",
       "638                                0.0                                   0.0  \n",
       "699                                0.0                                   1.0  \n",
       "\n",
       "[5 rows x 24 columns]"
      ]
     },
     "metadata": {},
     "output_type": "display_data"
    },
    {
     "data": {
      "text/html": [
       "<div>\n",
       "<style scoped>\n",
       "    .dataframe tbody tr th:only-of-type {\n",
       "        vertical-align: middle;\n",
       "    }\n",
       "\n",
       "    .dataframe tbody tr th {\n",
       "        vertical-align: top;\n",
       "    }\n",
       "\n",
       "    .dataframe thead th {\n",
       "        text-align: right;\n",
       "    }\n",
       "</style>\n",
       "<table border=\"1\" class=\"dataframe\">\n",
       "  <thead>\n",
       "    <tr style=\"text-align: right;\">\n",
       "      <th></th>\n",
       "      <th>Experience Level</th>\n",
       "      <th>Student Siblings</th>\n",
       "      <th>Student Family</th>\n",
       "      <th>Financial Background</th>\n",
       "      <th>Student Social Influence</th>\n",
       "      <th>Program_Magi Academy</th>\n",
       "      <th>Program_Sorcery School</th>\n",
       "      <th>Program_Witchcraft Institute</th>\n",
       "      <th>Student Gender_female</th>\n",
       "      <th>Student Gender_male</th>\n",
       "      <th>...</th>\n",
       "      <th>Favourite Study Element_Earth</th>\n",
       "      <th>Favourite Study Element_Fire</th>\n",
       "      <th>Favourite Study Element_Water</th>\n",
       "      <th>Experience Level Category_Advanced</th>\n",
       "      <th>Experience Level Category_Intermediate</th>\n",
       "      <th>Experience Level Category_Master</th>\n",
       "      <th>Experience Level Category_Novice</th>\n",
       "      <th>Financial Background Category_High</th>\n",
       "      <th>Financial Background Category_Low</th>\n",
       "      <th>Financial Background Category_Medium</th>\n",
       "    </tr>\n",
       "  </thead>\n",
       "  <tbody>\n",
       "    <tr>\n",
       "      <th>573</th>\n",
       "      <td>0.931490</td>\n",
       "      <td>0.0</td>\n",
       "      <td>0.0</td>\n",
       "      <td>0.566061</td>\n",
       "      <td>-0.666667</td>\n",
       "      <td>1.0</td>\n",
       "      <td>0.0</td>\n",
       "      <td>0.0</td>\n",
       "      <td>0.0</td>\n",
       "      <td>1.0</td>\n",
       "      <td>...</td>\n",
       "      <td>0.0</td>\n",
       "      <td>0.0</td>\n",
       "      <td>0.0</td>\n",
       "      <td>0.0</td>\n",
       "      <td>0.0</td>\n",
       "      <td>1.0</td>\n",
       "      <td>0.0</td>\n",
       "      <td>1.0</td>\n",
       "      <td>0.0</td>\n",
       "      <td>0.0</td>\n",
       "    </tr>\n",
       "    <tr>\n",
       "      <th>673</th>\n",
       "      <td>-0.683894</td>\n",
       "      <td>0.0</td>\n",
       "      <td>0.0</td>\n",
       "      <td>-0.232353</td>\n",
       "      <td>0.666667</td>\n",
       "      <td>0.0</td>\n",
       "      <td>1.0</td>\n",
       "      <td>0.0</td>\n",
       "      <td>0.0</td>\n",
       "      <td>1.0</td>\n",
       "      <td>...</td>\n",
       "      <td>0.0</td>\n",
       "      <td>0.0</td>\n",
       "      <td>1.0</td>\n",
       "      <td>0.0</td>\n",
       "      <td>0.0</td>\n",
       "      <td>0.0</td>\n",
       "      <td>1.0</td>\n",
       "      <td>0.0</td>\n",
       "      <td>1.0</td>\n",
       "      <td>0.0</td>\n",
       "    </tr>\n",
       "    <tr>\n",
       "      <th>614</th>\n",
       "      <td>-0.760817</td>\n",
       "      <td>0.0</td>\n",
       "      <td>0.0</td>\n",
       "      <td>-0.297282</td>\n",
       "      <td>-0.333333</td>\n",
       "      <td>0.0</td>\n",
       "      <td>1.0</td>\n",
       "      <td>0.0</td>\n",
       "      <td>0.0</td>\n",
       "      <td>1.0</td>\n",
       "      <td>...</td>\n",
       "      <td>0.0</td>\n",
       "      <td>0.0</td>\n",
       "      <td>1.0</td>\n",
       "      <td>0.0</td>\n",
       "      <td>0.0</td>\n",
       "      <td>0.0</td>\n",
       "      <td>1.0</td>\n",
       "      <td>0.0</td>\n",
       "      <td>1.0</td>\n",
       "      <td>0.0</td>\n",
       "    </tr>\n",
       "    <tr>\n",
       "      <th>285</th>\n",
       "      <td>0.000000</td>\n",
       "      <td>0.0</td>\n",
       "      <td>0.0</td>\n",
       "      <td>-0.297472</td>\n",
       "      <td>-0.750000</td>\n",
       "      <td>0.0</td>\n",
       "      <td>1.0</td>\n",
       "      <td>0.0</td>\n",
       "      <td>0.0</td>\n",
       "      <td>1.0</td>\n",
       "      <td>...</td>\n",
       "      <td>1.0</td>\n",
       "      <td>0.0</td>\n",
       "      <td>0.0</td>\n",
       "      <td>1.0</td>\n",
       "      <td>0.0</td>\n",
       "      <td>0.0</td>\n",
       "      <td>0.0</td>\n",
       "      <td>0.0</td>\n",
       "      <td>1.0</td>\n",
       "      <td>0.0</td>\n",
       "    </tr>\n",
       "    <tr>\n",
       "      <th>260</th>\n",
       "      <td>-0.606971</td>\n",
       "      <td>0.0</td>\n",
       "      <td>0.0</td>\n",
       "      <td>-0.296340</td>\n",
       "      <td>0.833333</td>\n",
       "      <td>0.0</td>\n",
       "      <td>1.0</td>\n",
       "      <td>0.0</td>\n",
       "      <td>0.0</td>\n",
       "      <td>1.0</td>\n",
       "      <td>...</td>\n",
       "      <td>0.0</td>\n",
       "      <td>0.0</td>\n",
       "      <td>0.0</td>\n",
       "      <td>0.0</td>\n",
       "      <td>1.0</td>\n",
       "      <td>0.0</td>\n",
       "      <td>0.0</td>\n",
       "      <td>0.0</td>\n",
       "      <td>1.0</td>\n",
       "      <td>0.0</td>\n",
       "    </tr>\n",
       "  </tbody>\n",
       "</table>\n",
       "<p>5 rows × 24 columns</p>\n",
       "</div>"
      ],
      "text/plain": [
       "     Experience Level  Student Siblings  Student Family  Financial Background  \\\n",
       "573          0.931490               0.0             0.0              0.566061   \n",
       "673         -0.683894               0.0             0.0             -0.232353   \n",
       "614         -0.760817               0.0             0.0             -0.297282   \n",
       "285          0.000000               0.0             0.0             -0.297472   \n",
       "260         -0.606971               0.0             0.0             -0.296340   \n",
       "\n",
       "     Student Social Influence  Program_Magi Academy  Program_Sorcery School  \\\n",
       "573                 -0.666667                   1.0                     0.0   \n",
       "673                  0.666667                   0.0                     1.0   \n",
       "614                 -0.333333                   0.0                     1.0   \n",
       "285                 -0.750000                   0.0                     1.0   \n",
       "260                  0.833333                   0.0                     1.0   \n",
       "\n",
       "     Program_Witchcraft Institute  Student Gender_female  Student Gender_male  \\\n",
       "573                           0.0                    0.0                  1.0   \n",
       "673                           0.0                    0.0                  1.0   \n",
       "614                           0.0                    0.0                  1.0   \n",
       "285                           0.0                    0.0                  1.0   \n",
       "260                           0.0                    0.0                  1.0   \n",
       "\n",
       "     ...  Favourite Study Element_Earth  Favourite Study Element_Fire  \\\n",
       "573  ...                            0.0                           0.0   \n",
       "673  ...                            0.0                           0.0   \n",
       "614  ...                            0.0                           0.0   \n",
       "285  ...                            1.0                           0.0   \n",
       "260  ...                            0.0                           0.0   \n",
       "\n",
       "     Favourite Study Element_Water  Experience Level Category_Advanced  \\\n",
       "573                            0.0                                 0.0   \n",
       "673                            1.0                                 0.0   \n",
       "614                            1.0                                 0.0   \n",
       "285                            0.0                                 1.0   \n",
       "260                            0.0                                 0.0   \n",
       "\n",
       "     Experience Level Category_Intermediate  Experience Level Category_Master  \\\n",
       "573                                     0.0                               1.0   \n",
       "673                                     0.0                               0.0   \n",
       "614                                     0.0                               0.0   \n",
       "285                                     0.0                               0.0   \n",
       "260                                     1.0                               0.0   \n",
       "\n",
       "     Experience Level Category_Novice  Financial Background Category_High  \\\n",
       "573                               0.0                                 1.0   \n",
       "673                               1.0                                 0.0   \n",
       "614                               1.0                                 0.0   \n",
       "285                               0.0                                 0.0   \n",
       "260                               0.0                                 0.0   \n",
       "\n",
       "     Financial Background Category_Low  Financial Background Category_Medium  \n",
       "573                                0.0                                   0.0  \n",
       "673                                1.0                                   0.0  \n",
       "614                                1.0                                   0.0  \n",
       "285                                1.0                                   0.0  \n",
       "260                                1.0                                   0.0  \n",
       "\n",
       "[5 rows x 24 columns]"
      ]
     },
     "metadata": {},
     "output_type": "display_data"
    }
   ],
   "source": [
    "# Check the joinned datasets\n",
    "display(X_train_join.head())\n",
    "display(X_val_join.head())"
   ]
  },
  {
   "cell_type": "markdown",
   "metadata": {
    "id": "1idovC5mqmto"
   },
   "source": [
    "The code bellow is designed to eliminate variables that have been identified for exclusion, based on the tables obtained above."
   ]
  },
  {
   "cell_type": "code",
   "execution_count": null,
   "metadata": {
    "id": "bhf_0DStcbBE"
   },
   "outputs": [],
   "source": [
    "selected_features = list(X_train_join.columns)"
   ]
  },
  {
   "cell_type": "code",
   "execution_count": null,
   "metadata": {
    "id": "P7Qa2AAfcbKH"
   },
   "outputs": [],
   "source": [
    "# Columns to remove. Note that we will remove the encoded version of the variables.\n",
    "columns_to_remove = ['Favourite Study Element_Earth',\n",
    "                     'Favourite Study Element_Air',\n",
    "                     'Favourite Study Element_Water',\n",
    "                     'Favourite Study Element_Fire',\n",
    "                     'Student Family',\n",
    "                     'Student Siblings']"
   ]
  },
  {
   "cell_type": "code",
   "execution_count": null,
   "metadata": {
    "id": "GESVo5Esbe3f"
   },
   "outputs": [],
   "source": [
    "# Update the 'selected_features' by removing the ones that were discarded\n",
    "selected_features = [column for column in selected_features if column not in columns_to_remove]\n",
    "\n",
    "# Update DataFrames\n",
    "X_train_join = X_train_join[selected_features]\n",
    "X_val_join = X_val_join[selected_features]\n",
    "test_final = test_final[selected_features]"
   ]
  },
  {
   "cell_type": "markdown",
   "metadata": {
    "id": "O4U9bQes0yww"
   },
   "source": [
    "<a id=\"4\">  \n",
    "    \n",
    "# **<font color='#00000'>4. Model Experimentation and Criteria for Evaluation<font>**"
   ]
  },
  {
   "cell_type": "markdown",
   "metadata": {
    "id": "Bw5FgSBkqmtp"
   },
   "source": [
    "<a id=\"4.1\"></a>     \n",
    "    \n",
    "## <font color='#00000'>4.1. Model Choice<font>"
   ]
  },
  {
   "cell_type": "markdown",
   "metadata": {
    "id": "swjanL0Kqmtp"
   },
   "source": [
    "In this section, a comprehensive series of tests is conducted to determine the optimal model, highlighting its superior performance among the alternatives considered."
   ]
  },
  {
   "cell_type": "code",
   "execution_count": null,
   "metadata": {
    "id": "L9Jana3Yqmtp"
   },
   "outputs": [],
   "source": [
    "# Logistic Regression\n",
    "Logistic_Regression = LogisticRegression()\n",
    "Logistic_Regression.fit(X_train_join, y_train)\n",
    "parameters_Logistic_Regression = {'C': [0.001, 0.01, 0.1, 1, 10, 100],'penalty': ['l1', 'l2', 'elasticnet', 'none'],'solver': ['newton-cg', 'lbfgs', 'liblinear', 'sag', 'saga'],'max_iter': [50, 100, 150, 200]}\n",
    "\n",
    "# Decision Tree Classifier\n",
    "Decision_Tree_Classifier = DecisionTreeClassifier(criterion = 'gini', max_depth = 5, max_leaf_nodes = 7, min_samples_split = 2)\n",
    "Decision_Tree_Classifier.fit(X_train_join, y_train)\n",
    "parameters_Decision_Tree_Classifier =  {'criterion':['log_loss', 'gini', 'entropy'],'max_depth':np.arange(1,21).tolist()[0::2],'min_samples_split':np.arange(2,11).tolist()[0::2],'max_leaf_nodes':np.arange(3,26).tolist()[0::2]}\n",
    "\n",
    "# Gaussian Naive Bayes\n",
    "Gaussian_Naive_Bayes = GaussianNB(priors = [0.5, 0.5], var_smoothing = 1e-09)\n",
    "Gaussian_Naive_Bayes.fit(X_train_join, y_train)\n",
    "parameters_Gaussian_Naive_Bayes = {'priors': [None, [0.2, 0.8], [0.5, 0.5]], 'var_smoothing': [1e-9, 1e-8, 1e-7]}\n",
    "\n",
    "# Support Vector Classifier\n",
    "Support_Vector_Classifier = SVC(C = 100, gamma = 0.01, kernel = 'rbf')\n",
    "Support_Vector_Classifier.fit(X_train_join, y_train)\n",
    "parameters_Support_Vector_Classifier = {'C': [0.1, 1, 10, 100, 1000], 'gamma': [1, 0.1, 0.01, 0.001, 0.0001], 'kernel': ['rbf']}\n",
    "\n",
    "# Multilayer Perceptron Classifier\n",
    "Multilayer_Perceptron_Classifier = MLP(activation= \"relu\", alpha= 0.0001, hidden_layer_sizes= (100,), learning_rate= \"constant\", solver= \"adam\")\n",
    "Multilayer_Perceptron_Classifier.fit(X_train_join,y_train)\n",
    "parameters_Multilayer_Perceptron_Classifier = {'hidden_layer_sizes': [(50,50,50), (50,100,50), (100,)],'activation': ['tanh', 'relu'],'solver': ['sgd', 'adam'],'alpha': [0.0001, 0.05],'learning_rate': ['constant','adaptive'],}\n",
    "\n",
    "# Random Forest Classifier\n",
    "Random_Forest_Classifier  = RandomForestClassifier(max_depth = 6, max_features = None, max_leaf_nodes = 9, n_estimators = 50)\n",
    "Random_Forest_Classifier.fit(X_train_join, y_train)\n",
    "parameters_Random_Forest_Classifier = { 'n_estimators': [25, 50, 100, 150], 'max_features': ['sqrt', 'log2', None], 'max_depth': [3, 6, 9], 'max_leaf_nodes': [3, 6, 9], }\n",
    "\n",
    "# Gradient Boosting Classifier\n",
    "Gradient_Boosting_Classifier = GradientBoostingClassifier(learning_rate = 0.05, loss = 'exponential', max_depth = 9, max_leaf_nodes = 9, n_estimators = 100)\n",
    "Gradient_Boosting_Classifier.fit(X_train_join, y_train)\n",
    "parameters_Gradient_Boosting_Classifier= {'loss': ['deviance', 'exponential'], 'learning_rate': [0.1, 0.05, 0.01], 'n_estimators': [100, 150, 200], 'max_depth': [3, 6, 9], 'max_leaf_nodes': [3, 6, 9]}\n",
    "\n",
    "# Adaptive Boosting Classifier\n",
    "Adaptive_Boosting_Classifier = AdaBoostClassifier(algorithm = 'SAMME', base_estimator = LogisticRegression(), learning_rate = 0.05, n_estimators = 150)\n",
    "Adaptive_Boosting_Classifier.fit(X_train_join, y_train)\n",
    "parameters_Adaptive_Boosting_Classifier = {'base_estimator':[DecisionTreeClassifier(),LogisticRegression()],'n_estimators': [25, 50, 100, 150], 'learning_rate': [0.1, 0.05, 0.01], 'algorithm': ['SAMME', 'SAMME.R']}\n",
    "\n",
    "# Extra Trees Classifier\n",
    "Extra_Trees_Classifier = ExtraTreesClassifier(max_depth = 9, max_features = None, max_leaf_nodes = 9, n_estimators = 25)\n",
    "Extra_Trees_Classifier.fit(X_train_join, y_train)\n",
    "parameters_Extra_Trees_Classifier = {'n_estimators': [25, 50, 100, 150], 'max_features': ['sqrt', 'log2', None], 'max_depth': [3, 6, 9], 'max_leaf_nodes': [3, 6, 9]}\n",
    "\n",
    "# XGB Classifier\n",
    "XGB_Classifier = XGBClassifier(colsample_bytree = 0.7, gamma = 0, learning_rate = 0.1, max_depth = 9, n_estimators = 25)\n",
    "XGB_Classifier.fit(X_train_join, y_train)\n",
    "parameters_XGB_Classifier = {'n_estimators': [25, 50, 100, 150], 'max_depth': [3, 6, 9], 'learning_rate': [0.1, 0.05, 0.01], 'gamma': [0, 0.1, 0.2, 0.3], 'colsample_bytree': [0.3, 0.4, 0.5, 0.7]}"
   ]
  },
  {
   "cell_type": "markdown",
   "metadata": {
    "id": "eIeSPKcSqmtq"
   },
   "source": [
    "By creating an instance of the model, fitting it to the data and defining a dictionary of hyperparameters, we are setting the stage for conducting a grid search, as seen in the following cells:"
   ]
  },
  {
   "cell_type": "code",
   "execution_count": null,
   "metadata": {
    "colab": {
     "base_uri": "https://localhost:8080/",
     "height": 69
    },
    "id": "iTHNMdntqmtr",
    "outputId": "3e55e3bd-b46b-4ff6-f9d0-28875ff9e29d"
   },
   "outputs": [
    {
     "name": "stdout",
     "output_type": "stream",
     "text": [
      "Fitting 5 folds for each of 480 candidates, totalling 2400 fits\n"
     ]
    },
    {
     "data": {
      "text/plain": [
       "{'C': 0.001, 'max_iter': 150, 'penalty': 'none', 'solver': 'sag'}"
      ]
     },
     "metadata": {},
     "output_type": "display_data"
    },
    {
     "data": {
      "text/plain": [
       "0.7294000599767958"
      ]
     },
     "metadata": {},
     "output_type": "display_data"
    }
   ],
   "source": [
    "Best_Logistic_Regression = GridSearchCV(estimator = LogisticRegression(), param_grid = parameters_Logistic_Regression, scoring = 'f1', verbose = True).fit(X_train_join, y_train)\n",
    "display(Best_Logistic_Regression.best_params_)\n",
    "display(Best_Logistic_Regression.best_score_)"
   ]
  },
  {
   "cell_type": "code",
   "execution_count": null,
   "metadata": {
    "colab": {
     "base_uri": "https://localhost:8080/",
     "height": 121
    },
    "id": "_tnfgA99qmtr",
    "outputId": "604e0369-d28e-4138-b140-16757c2b7be1"
   },
   "outputs": [
    {
     "name": "stdout",
     "output_type": "stream",
     "text": [
      "Fitting 5 folds for each of 1800 candidates, totalling 9000 fits\n"
     ]
    },
    {
     "data": {
      "text/plain": [
       "{'criterion': 'gini',\n",
       " 'max_depth': 5,\n",
       " 'max_leaf_nodes': 7,\n",
       " 'min_samples_split': 2}"
      ]
     },
     "metadata": {},
     "output_type": "display_data"
    },
    {
     "data": {
      "text/plain": [
       "0.7607845230246519"
      ]
     },
     "metadata": {},
     "output_type": "display_data"
    }
   ],
   "source": [
    "Best_Decision_Tree_Classifier = GridSearchCV(estimator = DecisionTreeClassifier(), param_grid = parameters_Decision_Tree_Classifier, scoring = 'f1', verbose = True).fit(X_train_join, y_train)\n",
    "display(Best_Decision_Tree_Classifier.best_params_)\n",
    "display(Best_Decision_Tree_Classifier.best_score_)"
   ]
  },
  {
   "cell_type": "code",
   "execution_count": null,
   "metadata": {
    "colab": {
     "base_uri": "https://localhost:8080/",
     "height": 69
    },
    "id": "Y2u9eZcJqmts",
    "outputId": "895a167c-7356-4204-962f-e4b7483ad9af"
   },
   "outputs": [
    {
     "name": "stdout",
     "output_type": "stream",
     "text": [
      "Fitting 5 folds for each of 9 candidates, totalling 45 fits\n"
     ]
    },
    {
     "data": {
      "text/plain": [
       "{'priors': [0.5, 0.5], 'var_smoothing': 1e-09}"
      ]
     },
     "metadata": {},
     "output_type": "display_data"
    },
    {
     "data": {
      "text/plain": [
       "0.6630898935122123"
      ]
     },
     "metadata": {},
     "output_type": "display_data"
    }
   ],
   "source": [
    "Best_Gaussian_Naive_Bayes = GridSearchCV(estimator = GaussianNB(), param_grid = parameters_Gaussian_Naive_Bayes, scoring = 'f1', verbose=True).fit(X_train_join, y_train)\n",
    "display(Best_Gaussian_Naive_Bayes.best_params_)\n",
    "display(Best_Gaussian_Naive_Bayes.best_score_)"
   ]
  },
  {
   "cell_type": "code",
   "execution_count": null,
   "metadata": {
    "colab": {
     "base_uri": "https://localhost:8080/",
     "height": 69
    },
    "id": "xbMDkTJ9qmtt",
    "outputId": "12a4479a-8352-4fe2-bc3c-6e4becd35a1d"
   },
   "outputs": [
    {
     "name": "stdout",
     "output_type": "stream",
     "text": [
      "Fitting 5 folds for each of 25 candidates, totalling 125 fits\n"
     ]
    },
    {
     "data": {
      "text/plain": [
       "{'C': 100, 'gamma': 0.01, 'kernel': 'rbf'}"
      ]
     },
     "metadata": {},
     "output_type": "display_data"
    },
    {
     "data": {
      "text/plain": [
       "0.7324775638057105"
      ]
     },
     "metadata": {},
     "output_type": "display_data"
    }
   ],
   "source": [
    "Best_Support_Vector_Classifier = GridSearchCV(estimator = SVC(), param_grid = parameters_Support_Vector_Classifier, scoring = 'f1', verbose = True).fit(X_train_join, y_train)\n",
    "display(Best_Support_Vector_Classifier.best_params_)\n",
    "display(Best_Support_Vector_Classifier.best_score_)"
   ]
  },
  {
   "cell_type": "code",
   "execution_count": null,
   "metadata": {
    "colab": {
     "base_uri": "https://localhost:8080/",
     "height": 139
    },
    "id": "1S4ZoLm-qmtt",
    "outputId": "cbad37b9-b448-450f-ce79-18a5baf69980"
   },
   "outputs": [
    {
     "name": "stdout",
     "output_type": "stream",
     "text": [
      "Fitting 5 folds for each of 48 candidates, totalling 240 fits\n"
     ]
    },
    {
     "data": {
      "text/plain": [
       "{'activation': 'relu',\n",
       " 'alpha': 0.05,\n",
       " 'hidden_layer_sizes': (100,),\n",
       " 'learning_rate': 'constant',\n",
       " 'solver': 'adam'}"
      ]
     },
     "metadata": {},
     "output_type": "display_data"
    },
    {
     "data": {
      "text/plain": [
       "0.754915084915085"
      ]
     },
     "metadata": {},
     "output_type": "display_data"
    }
   ],
   "source": [
    "Best_Multilayer_Perceptron_Classifier = GridSearchCV(estimator = MLP(), param_grid = parameters_Multilayer_Perceptron_Classifier, scoring = 'f1', verbose = True).fit(X_train_join, y_train)\n",
    "display(Best_Multilayer_Perceptron_Classifier.best_params_)\n",
    "display(Best_Multilayer_Perceptron_Classifier.best_score_)"
   ]
  },
  {
   "cell_type": "code",
   "execution_count": null,
   "metadata": {
    "colab": {
     "base_uri": "https://localhost:8080/",
     "height": 69
    },
    "id": "UtYXRlgkqmtu",
    "outputId": "b97108c4-e2c9-4d19-d55d-1e31f4c1cfb3"
   },
   "outputs": [
    {
     "name": "stdout",
     "output_type": "stream",
     "text": [
      "Fitting 5 folds for each of 108 candidates, totalling 540 fits\n"
     ]
    },
    {
     "data": {
      "text/plain": [
       "{'max_depth': 6, 'max_features': None, 'max_leaf_nodes': 9, 'n_estimators': 25}"
      ]
     },
     "metadata": {},
     "output_type": "display_data"
    },
    {
     "data": {
      "text/plain": [
       "0.7246440562709848"
      ]
     },
     "metadata": {},
     "output_type": "display_data"
    }
   ],
   "source": [
    "Best_Random_Forest_Classifier = GridSearchCV(estimator = RandomForestClassifier(), param_grid = parameters_Random_Forest_Classifier, scoring = 'f1', verbose = True).fit(X_train_join, y_train)\n",
    "display(Best_Random_Forest_Classifier.best_params_)\n",
    "display(Best_Random_Forest_Classifier.best_score_)"
   ]
  },
  {
   "cell_type": "code",
   "execution_count": null,
   "metadata": {
    "colab": {
     "base_uri": "https://localhost:8080/",
     "height": 139
    },
    "id": "kh8SxfaRqmtu",
    "outputId": "1e7d35b9-33bd-46e8-f694-f6dad7836937"
   },
   "outputs": [
    {
     "name": "stdout",
     "output_type": "stream",
     "text": [
      "Fitting 5 folds for each of 162 candidates, totalling 810 fits\n"
     ]
    },
    {
     "data": {
      "text/plain": [
       "{'learning_rate': 0.05,\n",
       " 'loss': 'exponential',\n",
       " 'max_depth': 6,\n",
       " 'max_leaf_nodes': 9,\n",
       " 'n_estimators': 200}"
      ]
     },
     "metadata": {},
     "output_type": "display_data"
    },
    {
     "data": {
      "text/plain": [
       "0.7470335094642454"
      ]
     },
     "metadata": {},
     "output_type": "display_data"
    }
   ],
   "source": [
    "Best_Gradient_Boosting_Classifier = GridSearchCV(estimator = GradientBoostingClassifier(), param_grid = parameters_Gradient_Boosting_Classifier, scoring = 'f1', verbose = True).fit(X_train_join, y_train)\n",
    "display(Best_Gradient_Boosting_Classifier.best_params_)\n",
    "display(Best_Gradient_Boosting_Classifier.best_score_)"
   ]
  },
  {
   "cell_type": "code",
   "execution_count": null,
   "metadata": {
    "colab": {
     "base_uri": "https://localhost:8080/",
     "height": 121
    },
    "id": "dOW5ZR2eqmtv",
    "outputId": "25153197-af6b-490e-d779-47659bf876b9"
   },
   "outputs": [
    {
     "name": "stdout",
     "output_type": "stream",
     "text": [
      "Fitting 5 folds for each of 48 candidates, totalling 240 fits\n"
     ]
    },
    {
     "data": {
      "text/plain": [
       "{'algorithm': 'SAMME',\n",
       " 'base_estimator': LogisticRegression(),\n",
       " 'learning_rate': 0.05,\n",
       " 'n_estimators': 150}"
      ]
     },
     "metadata": {},
     "output_type": "display_data"
    },
    {
     "data": {
      "text/plain": [
       "0.7064958946541227"
      ]
     },
     "metadata": {},
     "output_type": "display_data"
    }
   ],
   "source": [
    "Best_Adaptive_Boosting_Classifier = GridSearchCV(estimator = AdaBoostClassifier(), param_grid = parameters_Adaptive_Boosting_Classifier, scoring = 'f1', verbose = True).fit(X_train_join, y_train)\n",
    "display(Best_Adaptive_Boosting_Classifier.best_params_)\n",
    "display(Best_Adaptive_Boosting_Classifier.best_score_)"
   ]
  },
  {
   "cell_type": "code",
   "execution_count": null,
   "metadata": {
    "colab": {
     "base_uri": "https://localhost:8080/",
     "height": 69
    },
    "id": "XTfonTAtqmtw",
    "outputId": "443274df-08d1-4cab-e79f-9ec188557b29"
   },
   "outputs": [
    {
     "name": "stdout",
     "output_type": "stream",
     "text": [
      "Fitting 5 folds for each of 108 candidates, totalling 540 fits\n"
     ]
    },
    {
     "data": {
      "text/plain": [
       "{'max_depth': 6, 'max_features': None, 'max_leaf_nodes': 9, 'n_estimators': 50}"
      ]
     },
     "metadata": {},
     "output_type": "display_data"
    },
    {
     "data": {
      "text/plain": [
       "0.744318953023163"
      ]
     },
     "metadata": {},
     "output_type": "display_data"
    }
   ],
   "source": [
    "Best_Extra_Trees_Classifier = GridSearchCV(estimator = ExtraTreesClassifier(), param_grid = parameters_Extra_Trees_Classifier, scoring = 'f1', verbose = True).fit(X_train_join, y_train)\n",
    "display(Best_Extra_Trees_Classifier.best_params_)\n",
    "display(Best_Extra_Trees_Classifier.best_score_)"
   ]
  },
  {
   "cell_type": "code",
   "execution_count": null,
   "metadata": {
    "colab": {
     "base_uri": "https://localhost:8080/",
     "height": 139
    },
    "id": "cvhPpkPJqmtw",
    "outputId": "d6f055ca-4e82-4482-d551-43e57875f785"
   },
   "outputs": [
    {
     "name": "stdout",
     "output_type": "stream",
     "text": [
      "Fitting 5 folds for each of 576 candidates, totalling 2880 fits\n"
     ]
    },
    {
     "data": {
      "text/plain": [
       "{'colsample_bytree': 0.7,\n",
       " 'gamma': 0.3,\n",
       " 'learning_rate': 0.1,\n",
       " 'max_depth': 9,\n",
       " 'n_estimators': 100}"
      ]
     },
     "metadata": {},
     "output_type": "display_data"
    },
    {
     "data": {
      "text/plain": [
       "0.7445049183283416"
      ]
     },
     "metadata": {},
     "output_type": "display_data"
    }
   ],
   "source": [
    "Best_XGB_Classifier = GridSearchCV(estimator = XGBClassifier(), param_grid = parameters_XGB_Classifier, scoring = 'f1', verbose = True).fit(X_train_join, y_train)\n",
    "display(Best_XGB_Classifier.best_params_)\n",
    "display(Best_XGB_Classifier.best_score_)"
   ]
  },
  {
   "cell_type": "code",
   "execution_count": null,
   "metadata": {
    "colab": {
     "base_uri": "https://localhost:8080/",
     "height": 744
    },
    "id": "i9SMkcIqqmtw",
    "outputId": "024daea7-dcb2-43f2-8449-213148e4058b"
   },
   "outputs": [
    {
     "name": "stdout",
     "output_type": "stream",
     "text": [
      "Prediction Results on Training Data\n"
     ]
    },
    {
     "data": {
      "text/html": [
       "<div>\n",
       "<style scoped>\n",
       "    .dataframe tbody tr th:only-of-type {\n",
       "        vertical-align: middle;\n",
       "    }\n",
       "\n",
       "    .dataframe tbody tr th {\n",
       "        vertical-align: top;\n",
       "    }\n",
       "\n",
       "    .dataframe thead th {\n",
       "        text-align: right;\n",
       "    }\n",
       "</style>\n",
       "<table border=\"1\" class=\"dataframe\">\n",
       "  <thead>\n",
       "    <tr style=\"text-align: right;\">\n",
       "      <th></th>\n",
       "      <th>F1 Score</th>\n",
       "      <th>Balanced Accuracy</th>\n",
       "      <th>Precision</th>\n",
       "      <th>Recall</th>\n",
       "    </tr>\n",
       "  </thead>\n",
       "  <tbody>\n",
       "    <tr>\n",
       "      <th>Logistic Regression</th>\n",
       "      <td>0.765060</td>\n",
       "      <td>0.815904</td>\n",
       "      <td>0.814103</td>\n",
       "      <td>0.721591</td>\n",
       "    </tr>\n",
       "    <tr>\n",
       "      <th>Decision Tree Classifier</th>\n",
       "      <td>0.788406</td>\n",
       "      <td>0.835280</td>\n",
       "      <td>0.804734</td>\n",
       "      <td>0.772727</td>\n",
       "    </tr>\n",
       "    <tr>\n",
       "      <th>Gaussian Naive Bayes</th>\n",
       "      <td>0.663158</td>\n",
       "      <td>0.737212</td>\n",
       "      <td>0.617647</td>\n",
       "      <td>0.715909</td>\n",
       "    </tr>\n",
       "    <tr>\n",
       "      <th>Support Vector Classifier</th>\n",
       "      <td>0.783439</td>\n",
       "      <td>0.826212</td>\n",
       "      <td>0.891304</td>\n",
       "      <td>0.698864</td>\n",
       "    </tr>\n",
       "    <tr>\n",
       "      <th>Multilayer Perceptron Classifier</th>\n",
       "      <td>0.822086</td>\n",
       "      <td>0.855914</td>\n",
       "      <td>0.893333</td>\n",
       "      <td>0.761364</td>\n",
       "    </tr>\n",
       "    <tr>\n",
       "      <th>Random Forest Classifier</th>\n",
       "      <td>0.782609</td>\n",
       "      <td>0.826995</td>\n",
       "      <td>0.863014</td>\n",
       "      <td>0.715909</td>\n",
       "    </tr>\n",
       "    <tr>\n",
       "      <th>Gradient Boosting Classifier</th>\n",
       "      <td>0.901493</td>\n",
       "      <td>0.916593</td>\n",
       "      <td>0.949686</td>\n",
       "      <td>0.857955</td>\n",
       "    </tr>\n",
       "    <tr>\n",
       "      <th>Adaptive Boosting Classifier</th>\n",
       "      <td>0.725275</td>\n",
       "      <td>0.788313</td>\n",
       "      <td>0.702128</td>\n",
       "      <td>0.750000</td>\n",
       "    </tr>\n",
       "    <tr>\n",
       "      <th>Extra Trees Classifier</th>\n",
       "      <td>0.765273</td>\n",
       "      <td>0.813300</td>\n",
       "      <td>0.881481</td>\n",
       "      <td>0.676136</td>\n",
       "    </tr>\n",
       "    <tr>\n",
       "      <th>XGB Classifier</th>\n",
       "      <td>0.928571</td>\n",
       "      <td>0.936990</td>\n",
       "      <td>0.975000</td>\n",
       "      <td>0.886364</td>\n",
       "    </tr>\n",
       "  </tbody>\n",
       "</table>\n",
       "</div>"
      ],
      "text/plain": [
       "                                  F1 Score  Balanced Accuracy  Precision  \\\n",
       "Logistic Regression               0.765060           0.815904   0.814103   \n",
       "Decision Tree Classifier          0.788406           0.835280   0.804734   \n",
       "Gaussian Naive Bayes              0.663158           0.737212   0.617647   \n",
       "Support Vector Classifier         0.783439           0.826212   0.891304   \n",
       "Multilayer Perceptron Classifier  0.822086           0.855914   0.893333   \n",
       "Random Forest Classifier          0.782609           0.826995   0.863014   \n",
       "Gradient Boosting Classifier      0.901493           0.916593   0.949686   \n",
       "Adaptive Boosting Classifier      0.725275           0.788313   0.702128   \n",
       "Extra Trees Classifier            0.765273           0.813300   0.881481   \n",
       "XGB Classifier                    0.928571           0.936990   0.975000   \n",
       "\n",
       "                                    Recall  \n",
       "Logistic Regression               0.721591  \n",
       "Decision Tree Classifier          0.772727  \n",
       "Gaussian Naive Bayes              0.715909  \n",
       "Support Vector Classifier         0.698864  \n",
       "Multilayer Perceptron Classifier  0.761364  \n",
       "Random Forest Classifier          0.715909  \n",
       "Gradient Boosting Classifier      0.857955  \n",
       "Adaptive Boosting Classifier      0.750000  \n",
       "Extra Trees Classifier            0.676136  \n",
       "XGB Classifier                    0.886364  "
      ]
     },
     "metadata": {},
     "output_type": "display_data"
    },
    {
     "name": "stdout",
     "output_type": "stream",
     "text": [
      "Prediction Results on Validation Data\n"
     ]
    },
    {
     "data": {
      "text/html": [
       "<div>\n",
       "<style scoped>\n",
       "    .dataframe tbody tr th:only-of-type {\n",
       "        vertical-align: middle;\n",
       "    }\n",
       "\n",
       "    .dataframe tbody tr th {\n",
       "        vertical-align: top;\n",
       "    }\n",
       "\n",
       "    .dataframe thead th {\n",
       "        text-align: right;\n",
       "    }\n",
       "</style>\n",
       "<table border=\"1\" class=\"dataframe\">\n",
       "  <thead>\n",
       "    <tr style=\"text-align: right;\">\n",
       "      <th></th>\n",
       "      <th>F1 Score</th>\n",
       "      <th>Balanced Accuracy</th>\n",
       "      <th>Precision</th>\n",
       "      <th>Recall</th>\n",
       "    </tr>\n",
       "  </thead>\n",
       "  <tbody>\n",
       "    <tr>\n",
       "      <th>Logistic Regression</th>\n",
       "      <td>0.635659</td>\n",
       "      <td>0.726259</td>\n",
       "      <td>0.773585</td>\n",
       "      <td>0.539474</td>\n",
       "    </tr>\n",
       "    <tr>\n",
       "      <th>Decision Tree Classifier</th>\n",
       "      <td>0.700000</td>\n",
       "      <td>0.768021</td>\n",
       "      <td>0.765625</td>\n",
       "      <td>0.644737</td>\n",
       "    </tr>\n",
       "    <tr>\n",
       "      <th>Gaussian Naive Bayes</th>\n",
       "      <td>0.641975</td>\n",
       "      <td>0.718917</td>\n",
       "      <td>0.604651</td>\n",
       "      <td>0.684211</td>\n",
       "    </tr>\n",
       "    <tr>\n",
       "      <th>Support Vector Classifier</th>\n",
       "      <td>0.688000</td>\n",
       "      <td>0.761156</td>\n",
       "      <td>0.877551</td>\n",
       "      <td>0.565789</td>\n",
       "    </tr>\n",
       "    <tr>\n",
       "      <th>Multilayer Perceptron Classifier</th>\n",
       "      <td>0.676692</td>\n",
       "      <td>0.752574</td>\n",
       "      <td>0.789474</td>\n",
       "      <td>0.592105</td>\n",
       "    </tr>\n",
       "    <tr>\n",
       "      <th>Random Forest Classifier</th>\n",
       "      <td>0.682171</td>\n",
       "      <td>0.756865</td>\n",
       "      <td>0.830189</td>\n",
       "      <td>0.578947</td>\n",
       "    </tr>\n",
       "    <tr>\n",
       "      <th>Gradient Boosting Classifier</th>\n",
       "      <td>0.710145</td>\n",
       "      <td>0.775267</td>\n",
       "      <td>0.790323</td>\n",
       "      <td>0.644737</td>\n",
       "    </tr>\n",
       "    <tr>\n",
       "      <th>Adaptive Boosting Classifier</th>\n",
       "      <td>0.652778</td>\n",
       "      <td>0.733124</td>\n",
       "      <td>0.691176</td>\n",
       "      <td>0.618421</td>\n",
       "    </tr>\n",
       "    <tr>\n",
       "      <th>Extra Trees Classifier</th>\n",
       "      <td>0.661417</td>\n",
       "      <td>0.743707</td>\n",
       "      <td>0.823529</td>\n",
       "      <td>0.552632</td>\n",
       "    </tr>\n",
       "    <tr>\n",
       "      <th>XGB Classifier</th>\n",
       "      <td>0.700730</td>\n",
       "      <td>0.768688</td>\n",
       "      <td>0.786885</td>\n",
       "      <td>0.631579</td>\n",
       "    </tr>\n",
       "  </tbody>\n",
       "</table>\n",
       "</div>"
      ],
      "text/plain": [
       "                                  F1 Score  Balanced Accuracy  Precision  \\\n",
       "Logistic Regression               0.635659           0.726259   0.773585   \n",
       "Decision Tree Classifier          0.700000           0.768021   0.765625   \n",
       "Gaussian Naive Bayes              0.641975           0.718917   0.604651   \n",
       "Support Vector Classifier         0.688000           0.761156   0.877551   \n",
       "Multilayer Perceptron Classifier  0.676692           0.752574   0.789474   \n",
       "Random Forest Classifier          0.682171           0.756865   0.830189   \n",
       "Gradient Boosting Classifier      0.710145           0.775267   0.790323   \n",
       "Adaptive Boosting Classifier      0.652778           0.733124   0.691176   \n",
       "Extra Trees Classifier            0.661417           0.743707   0.823529   \n",
       "XGB Classifier                    0.700730           0.768688   0.786885   \n",
       "\n",
       "                                    Recall  \n",
       "Logistic Regression               0.539474  \n",
       "Decision Tree Classifier          0.644737  \n",
       "Gaussian Naive Bayes              0.684211  \n",
       "Support Vector Classifier         0.565789  \n",
       "Multilayer Perceptron Classifier  0.592105  \n",
       "Random Forest Classifier          0.578947  \n",
       "Gradient Boosting Classifier      0.644737  \n",
       "Adaptive Boosting Classifier      0.618421  \n",
       "Extra Trees Classifier            0.552632  \n",
       "XGB Classifier                    0.631579  "
      ]
     },
     "metadata": {},
     "output_type": "display_data"
    }
   ],
   "source": [
    "labels = ['Logistic Regression', 'Decision Tree Classifier', 'Gaussian Naive Bayes', 'Support Vector Classifier', 'Multilayer Perceptron Classifier', 'Random Forest Classifier', 'Gradient Boosting Classifier', 'Adaptive Boosting Classifier', 'Extra Trees Classifier', 'XGB Classifier']\n",
    "\n",
    "# Prediction results on training data\n",
    "def predict_and_results_train(list_of_models):\n",
    "\n",
    "    f1, balanced_accuracy, precision, recall = {}, {}, {}, {}\n",
    "\n",
    "    for model, label in zip(list_of_models, labels):\n",
    "        predictions_train = model.predict(X_train_join)\n",
    "\n",
    "        f1[label] = f1_score(y_train, predictions_train)\n",
    "\n",
    "        balanced_accuracy[label] = balanced_accuracy_score(y_train, predictions_train)\n",
    "\n",
    "        precision[label] = precision_score(y_train, predictions_train)\n",
    "\n",
    "        recall[label] = recall_score(y_train, predictions_train)\n",
    "\n",
    "        results = pd.DataFrame.from_dict({'F1 Score': f1, 'Balanced Accuracy': balanced_accuracy, 'Precision': precision, 'Recall': recall})\n",
    "    return results\n",
    "\n",
    "# Prediction results on validation data\n",
    "def predict_and_results_val(list_of_models):\n",
    "\n",
    "    f1, balanced_accuracy, precision, recall = {}, {}, {}, {}\n",
    "\n",
    "    for model, label in zip(list_of_models, labels):\n",
    "        predictions_val = model.predict(X_val_join)\n",
    "\n",
    "        f1[label] = f1_score(y_val, predictions_val)\n",
    "\n",
    "        balanced_accuracy[label] = balanced_accuracy_score(y_val, predictions_val)\n",
    "\n",
    "        precision[label] = precision_score(y_val, predictions_val)\n",
    "\n",
    "        recall[label] = recall_score(y_val, predictions_val)\n",
    "\n",
    "        results = pd.DataFrame.from_dict({'F1 Score': f1, 'Balanced Accuracy': balanced_accuracy, 'Precision': precision, 'Recall': recall})\n",
    "    return results\n",
    "\n",
    "print('Prediction Results on Training Data')\n",
    "display(predict_and_results_train([Best_Logistic_Regression, Best_Decision_Tree_Classifier, Best_Gaussian_Naive_Bayes, Best_Support_Vector_Classifier, Best_Multilayer_Perceptron_Classifier, Best_Random_Forest_Classifier, Best_Gradient_Boosting_Classifier, Best_Adaptive_Boosting_Classifier, Best_Extra_Trees_Classifier, Best_XGB_Classifier]))\n",
    "print('Prediction Results on Validation Data')\n",
    "display(predict_and_results_val([Best_Logistic_Regression, Best_Decision_Tree_Classifier, Best_Gaussian_Naive_Bayes, Best_Support_Vector_Classifier, Best_Multilayer_Perceptron_Classifier, Best_Random_Forest_Classifier, Best_Gradient_Boosting_Classifier, Best_Adaptive_Boosting_Classifier, Best_Extra_Trees_Classifier, Best_XGB_Classifier]))"
   ]
  },
  {
   "cell_type": "markdown",
   "metadata": {
    "id": "UQMfI86N0yww"
   },
   "source": [
    "<a id=\"4.2\"></a>    \n",
    "    \n",
    "## <font color='#00000'>4.2 Fitting the Model<font>"
   ]
  },
  {
   "cell_type": "markdown",
   "metadata": {
    "id": "eJO6cVFeqmtx"
   },
   "source": [
    "According to the results obtained, the best model will be <b>DecisionTreeClassifier(criterion = 'gini', max_depth = 5, max_leaf_nodes = 7, min_samples_split = 2)<b>"
   ]
  },
  {
   "cell_type": "code",
   "execution_count": null,
   "metadata": {
    "colab": {
     "base_uri": "https://localhost:8080/",
     "height": 75
    },
    "id": "0HUJlniyqmtx",
    "outputId": "c3b8ba95-5a7e-4765-dab4-5149539db72a"
   },
   "outputs": [
    {
     "data": {
      "text/html": [
       "<style>#sk-container-id-1 {color: black;}#sk-container-id-1 pre{padding: 0;}#sk-container-id-1 div.sk-toggleable {background-color: white;}#sk-container-id-1 label.sk-toggleable__label {cursor: pointer;display: block;width: 100%;margin-bottom: 0;padding: 0.3em;box-sizing: border-box;text-align: center;}#sk-container-id-1 label.sk-toggleable__label-arrow:before {content: \"▸\";float: left;margin-right: 0.25em;color: #696969;}#sk-container-id-1 label.sk-toggleable__label-arrow:hover:before {color: black;}#sk-container-id-1 div.sk-estimator:hover label.sk-toggleable__label-arrow:before {color: black;}#sk-container-id-1 div.sk-toggleable__content {max-height: 0;max-width: 0;overflow: hidden;text-align: left;background-color: #f0f8ff;}#sk-container-id-1 div.sk-toggleable__content pre {margin: 0.2em;color: black;border-radius: 0.25em;background-color: #f0f8ff;}#sk-container-id-1 input.sk-toggleable__control:checked~div.sk-toggleable__content {max-height: 200px;max-width: 100%;overflow: auto;}#sk-container-id-1 input.sk-toggleable__control:checked~label.sk-toggleable__label-arrow:before {content: \"▾\";}#sk-container-id-1 div.sk-estimator input.sk-toggleable__control:checked~label.sk-toggleable__label {background-color: #d4ebff;}#sk-container-id-1 div.sk-label input.sk-toggleable__control:checked~label.sk-toggleable__label {background-color: #d4ebff;}#sk-container-id-1 input.sk-hidden--visually {border: 0;clip: rect(1px 1px 1px 1px);clip: rect(1px, 1px, 1px, 1px);height: 1px;margin: -1px;overflow: hidden;padding: 0;position: absolute;width: 1px;}#sk-container-id-1 div.sk-estimator {font-family: monospace;background-color: #f0f8ff;border: 1px dotted black;border-radius: 0.25em;box-sizing: border-box;margin-bottom: 0.5em;}#sk-container-id-1 div.sk-estimator:hover {background-color: #d4ebff;}#sk-container-id-1 div.sk-parallel-item::after {content: \"\";width: 100%;border-bottom: 1px solid gray;flex-grow: 1;}#sk-container-id-1 div.sk-label:hover label.sk-toggleable__label {background-color: #d4ebff;}#sk-container-id-1 div.sk-serial::before {content: \"\";position: absolute;border-left: 1px solid gray;box-sizing: border-box;top: 0;bottom: 0;left: 50%;z-index: 0;}#sk-container-id-1 div.sk-serial {display: flex;flex-direction: column;align-items: center;background-color: white;padding-right: 0.2em;padding-left: 0.2em;position: relative;}#sk-container-id-1 div.sk-item {position: relative;z-index: 1;}#sk-container-id-1 div.sk-parallel {display: flex;align-items: stretch;justify-content: center;background-color: white;position: relative;}#sk-container-id-1 div.sk-item::before, #sk-container-id-1 div.sk-parallel-item::before {content: \"\";position: absolute;border-left: 1px solid gray;box-sizing: border-box;top: 0;bottom: 0;left: 50%;z-index: -1;}#sk-container-id-1 div.sk-parallel-item {display: flex;flex-direction: column;z-index: 1;position: relative;background-color: white;}#sk-container-id-1 div.sk-parallel-item:first-child::after {align-self: flex-end;width: 50%;}#sk-container-id-1 div.sk-parallel-item:last-child::after {align-self: flex-start;width: 50%;}#sk-container-id-1 div.sk-parallel-item:only-child::after {width: 0;}#sk-container-id-1 div.sk-dashed-wrapped {border: 1px dashed gray;margin: 0 0.4em 0.5em 0.4em;box-sizing: border-box;padding-bottom: 0.4em;background-color: white;}#sk-container-id-1 div.sk-label label {font-family: monospace;font-weight: bold;display: inline-block;line-height: 1.2em;}#sk-container-id-1 div.sk-label-container {text-align: center;}#sk-container-id-1 div.sk-container {/* jupyter's `normalize.less` sets `[hidden] { display: none; }` but bootstrap.min.css set `[hidden] { display: none !important; }` so we also need the `!important` here to be able to override the default hidden behavior on the sphinx rendered scikit-learn.org. See: https://github.com/scikit-learn/scikit-learn/issues/21755 */display: inline-block !important;position: relative;}#sk-container-id-1 div.sk-text-repr-fallback {display: none;}</style><div id=\"sk-container-id-1\" class=\"sk-top-container\"><div class=\"sk-text-repr-fallback\"><pre>DecisionTreeClassifier(max_depth=5, max_leaf_nodes=7)</pre><b>In a Jupyter environment, please rerun this cell to show the HTML representation or trust the notebook. <br />On GitHub, the HTML representation is unable to render, please try loading this page with nbviewer.org.</b></div><div class=\"sk-container\" hidden><div class=\"sk-item\"><div class=\"sk-estimator sk-toggleable\"><input class=\"sk-toggleable__control sk-hidden--visually\" id=\"sk-estimator-id-1\" type=\"checkbox\" checked><label for=\"sk-estimator-id-1\" class=\"sk-toggleable__label sk-toggleable__label-arrow\">DecisionTreeClassifier</label><div class=\"sk-toggleable__content\"><pre>DecisionTreeClassifier(max_depth=5, max_leaf_nodes=7)</pre></div></div></div></div></div>"
      ],
      "text/plain": [
       "DecisionTreeClassifier(max_depth=5, max_leaf_nodes=7)"
      ]
     },
     "execution_count": 60,
     "metadata": {},
     "output_type": "execute_result"
    }
   ],
   "source": [
    "final_model = DecisionTreeClassifier(criterion = 'gini', max_depth = 5, max_leaf_nodes = 7, min_samples_split = 2)\n",
    "final_model.fit(X_train_join, y_train)"
   ]
  },
  {
   "cell_type": "markdown",
   "metadata": {
    "id": "dJXnHfsV0ywx"
   },
   "source": [
    "<a id=\"4.3\"></a>     \n",
    "    \n",
    "## <font color='#00000'>4.3 Evaluating the Model<font>"
   ]
  },
  {
   "cell_type": "code",
   "execution_count": null,
   "metadata": {
    "id": "uPNkbdSI0ywx"
   },
   "outputs": [],
   "source": [
    "# Apply the K Fold and the Repeated K Fold in the model\n",
    "\n",
    "kf = KFold(n_splits = 10,random_state = 42, shuffle = True)\n",
    "rkf = RepeatedKFold(n_splits = 5, n_repeats = 3,random_state = 42)\n",
    "\n",
    "def eval_model_clf(X, y, model):\n",
    "    y_pred = model.predict(X)\n",
    "    return f1_score(y, y_pred, average='binary')\n",
    "def run_model(X, y, model):\n",
    "    return model.fit(X,y)\n",
    "\n",
    "def avg_score_clf(method, X, y, model):\n",
    "    score_train = []\n",
    "    score_test = []\n",
    "    for train_index, test_index in method.split(X):\n",
    "        X_train, X_test = X.iloc[train_index], X.iloc[test_index]\n",
    "        y_train, y_test = y.iloc[train_index], y.iloc[test_index]\n",
    "\n",
    "        train_model = run_model(X_train, y_train, model)\n",
    "        value_train = eval_model_clf(X_train, y_train, train_model)\n",
    "        value_test = eval_model_clf(X_test, y_test, train_model)\n",
    "\n",
    "        score_train.append(value_train)\n",
    "        score_test.append(value_test)\n",
    "\n",
    "    mean_train_score = np.mean(score_train)\n",
    "    mean_test_score = np.mean(score_test)\n",
    "\n",
    "    result_df = pd.DataFrame({'Train F1 Score': [mean_train_score], 'Test F1 Score': [mean_test_score]})\n",
    "    result_df.index = [f'{str(model)} with {str(method)}']\n",
    "\n",
    "    return result_df\n"
   ]
  },
  {
   "cell_type": "code",
   "execution_count": null,
   "metadata": {
    "id": "t0kbYXch0ywy"
   },
   "outputs": [],
   "source": [
    "final_model_train_f1 = eval_model_clf(X_train_join, y_train, final_model)\n",
    "final_model_test_f1 = eval_model_clf(X_val_join, y_val, final_model)\n",
    "final_model_df = pd.DataFrame({'Train F1 Score': [final_model_train_f1], 'Test F1 Score': [final_model_test_f1]})\n",
    "final_model_df.index = [f\"{str(final_model)} with Simple Data Split\"]\n",
    "\n",
    "final_model_kf_df = avg_score_clf(kf, X_train_join, y_train,final_model)\n",
    "final_model_rkf_df = avg_score_clf(rkf, X_train_join, y_train,final_model)\n",
    "\n",
    "df_final_model = pd.concat([final_model_df, final_model_kf_df, final_model_rkf_df])"
   ]
  },
  {
   "cell_type": "code",
   "execution_count": null,
   "metadata": {
    "colab": {
     "base_uri": "https://localhost:8080/",
     "height": 143
    },
    "id": "L0E3OuXe0ywz",
    "outputId": "9a1f08d7-5411-40ec-8171-da5c211c4c93"
   },
   "outputs": [
    {
     "data": {
      "text/html": [
       "<div>\n",
       "<style scoped>\n",
       "    .dataframe tbody tr th:only-of-type {\n",
       "        vertical-align: middle;\n",
       "    }\n",
       "\n",
       "    .dataframe tbody tr th {\n",
       "        vertical-align: top;\n",
       "    }\n",
       "\n",
       "    .dataframe thead th {\n",
       "        text-align: right;\n",
       "    }\n",
       "</style>\n",
       "<table border=\"1\" class=\"dataframe\">\n",
       "  <thead>\n",
       "    <tr style=\"text-align: right;\">\n",
       "      <th></th>\n",
       "      <th>Train F1 Score</th>\n",
       "      <th>Test F1 Score</th>\n",
       "    </tr>\n",
       "  </thead>\n",
       "  <tbody>\n",
       "    <tr>\n",
       "      <th>DecisionTreeClassifier(max_depth=5, max_leaf_nodes=7) with Simple Data Split</th>\n",
       "      <td>0.788406</td>\n",
       "      <td>0.700000</td>\n",
       "    </tr>\n",
       "    <tr>\n",
       "      <th>DecisionTreeClassifier(max_depth=5, max_leaf_nodes=7) with KFold(n_splits=10, random_state=42, shuffle=True)</th>\n",
       "      <td>0.781684</td>\n",
       "      <td>0.746146</td>\n",
       "    </tr>\n",
       "    <tr>\n",
       "      <th>DecisionTreeClassifier(max_depth=5, max_leaf_nodes=7) with RepeatedKFold(n_repeats=3, n_splits=5, random_state=42)</th>\n",
       "      <td>0.781439</td>\n",
       "      <td>0.723477</td>\n",
       "    </tr>\n",
       "  </tbody>\n",
       "</table>\n",
       "</div>"
      ],
      "text/plain": [
       "                                                    Train F1 Score  \\\n",
       "DecisionTreeClassifier(max_depth=5, max_leaf_no...        0.788406   \n",
       "DecisionTreeClassifier(max_depth=5, max_leaf_no...        0.781684   \n",
       "DecisionTreeClassifier(max_depth=5, max_leaf_no...        0.781439   \n",
       "\n",
       "                                                    Test F1 Score  \n",
       "DecisionTreeClassifier(max_depth=5, max_leaf_no...       0.700000  \n",
       "DecisionTreeClassifier(max_depth=5, max_leaf_no...       0.746146  \n",
       "DecisionTreeClassifier(max_depth=5, max_leaf_no...       0.723477  "
      ]
     },
     "execution_count": 63,
     "metadata": {},
     "output_type": "execute_result"
    }
   ],
   "source": [
    "df_final_model"
   ]
  },
  {
   "cell_type": "code",
   "execution_count": null,
   "metadata": {
    "id": "z4B_lhsPqmtz"
   },
   "outputs": [],
   "source": [
    "def predict_and_results_metrics(final_model):\n",
    "    predictions_train = final_model.predict(X_train_join)\n",
    "    predictions_validation = final_model.predict(X_val_join)\n",
    "\n",
    "    print('___________________________________________________________________________________________________________')\n",
    "    print('                                                     TRAIN                                                 ')\n",
    "    print('-----------------------------------------------------------------------------------------------------------')\n",
    "    print(classification_report(y_train, predictions_train))\n",
    "    print('Confusion Matrix:\\n', confusion_matrix(y_train, predictions_train))\n",
    "\n",
    "    print('___________________________________________________________________________________________________________')\n",
    "    print('                                                VALIDATION                                                 ')\n",
    "    print('-----------------------------------------------------------------------------------------------------------')\n",
    "    print(classification_report(y_val, predictions_validation))\n",
    "    print('Confusion Matrix:\\n', confusion_matrix(y_val, predictions_validation))\n"
   ]
  },
  {
   "cell_type": "code",
   "execution_count": null,
   "metadata": {
    "colab": {
     "base_uri": "https://localhost:8080/",
     "height": 555
    },
    "id": "MLQpY1ocqmt0",
    "outputId": "b4fca396-dee8-4d29-f12b-3e96ea09162c"
   },
   "outputs": [
    {
     "name": "stdout",
     "output_type": "stream",
     "text": [
      "___________________________________________________________________________________________________________\n",
      "                                                     TRAIN                                                 \n",
      "-----------------------------------------------------------------------------------------------------------\n",
      "              precision    recall  f1-score   support\n",
      "\n",
      "       False       0.88      0.90      0.89       323\n",
      "        True       0.80      0.77      0.79       176\n",
      "\n",
      "    accuracy                           0.85       499\n",
      "   macro avg       0.84      0.84      0.84       499\n",
      "weighted avg       0.85      0.85      0.85       499\n",
      "\n",
      "Confusion Matrix:\n",
      " [[290  33]\n",
      " [ 40 136]]\n",
      "___________________________________________________________________________________________________________\n",
      "                                                VALIDATION                                                 \n",
      "-----------------------------------------------------------------------------------------------------------\n",
      "              precision    recall  f1-score   support\n",
      "\n",
      "       False       0.82      0.89      0.85       138\n",
      "        True       0.77      0.64      0.70        76\n",
      "\n",
      "    accuracy                           0.80       214\n",
      "   macro avg       0.79      0.77      0.78       214\n",
      "weighted avg       0.80      0.80      0.80       214\n",
      "\n",
      "Confusion Matrix:\n",
      " [[123  15]\n",
      " [ 27  49]]\n"
     ]
    },
    {
     "data": {
      "text/plain": [
       "None"
      ]
     },
     "metadata": {},
     "output_type": "display_data"
    }
   ],
   "source": [
    "display(predict_and_results_metrics(final_model))"
   ]
  },
  {
   "cell_type": "markdown",
   "metadata": {
    "id": "BdBSDMk30ywz"
   },
   "source": [
    "<a id=\"4.4\"></a>     \n",
    "    \n",
    "## <font color='#00000'>4.4. Making Predictions<font>"
   ]
  },
  {
   "cell_type": "code",
   "execution_count": null,
   "metadata": {
    "id": "gTz0sI9F0yw0"
   },
   "outputs": [],
   "source": [
    "test_final['Admitted in School'] = final_model.predict(test_final)"
   ]
  },
  {
   "cell_type": "markdown",
   "metadata": {
    "id": "_23uhstT0yw0"
   },
   "source": [
    "<a id=\"5\"></a>     \n",
    "    \n",
    "## <font color='#00000'>5. Extracting the Predictions<font>"
   ]
  },
  {
   "cell_type": "code",
   "execution_count": null,
   "metadata": {
    "id": "ITaSd5WTqmt2"
   },
   "outputs": [],
   "source": [
    "# Create a new DataFrame for predictions including 'Student ID'\n",
    "#final_predictions = pd.DataFrame({'Student ID': test_data_copy['Student ID'], 'Admitted in School': test_final['Admitted in School']})\n",
    "\n",
    "# Save the DataFrame to a CSV file\n",
    "#final_predictions.to_csv('Group08_version36.csv', index=False)"
   ]
  }
 ],
 "metadata": {
  "colab": {
   "provenance": []
  },
  "kernelspec": {
   "display_name": "Python 3 (ipykernel)",
   "language": "python",
   "name": "python3"
  },
  "language_info": {
   "codemirror_mode": {
    "name": "ipython",
    "version": 3
   },
   "file_extension": ".py",
   "mimetype": "text/x-python",
   "name": "python",
   "nbconvert_exporter": "python",
   "pygments_lexer": "ipython3",
   "version": "3.9.12"
  }
 },
 "nbformat": 4,
 "nbformat_minor": 0
}
